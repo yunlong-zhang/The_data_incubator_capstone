{
 "cells": [
  {
   "cell_type": "code",
   "execution_count": 7,
   "metadata": {},
   "outputs": [],
   "source": [
    "import pandas as pd\n",
    "import numpy as np\n",
    "from matplotlib import pyplot as plt"
   ]
  },
  {
   "cell_type": "code",
   "execution_count": 44,
   "metadata": {},
   "outputs": [],
   "source": [
    "fb = pd.read_csv('temp_datalab_records_social_facebook.csv', usecols=['username', 'time', 'facebook_id', 'likes', 'talking_about_count'], parse_dates=True)\n",
    "ld = pd.read_csv('temp_datalab_records_linkedin_company.csv', usecols=['as_of_date', 'company_name', 'employees_on_platform', 'industry', 'followers_count'], parse_dates=True)"
   ]
  },
  {
   "cell_type": "code",
   "execution_count": 49,
   "metadata": {},
   "outputs": [
    {
     "name": "stdout",
     "output_type": "stream",
     "text": [
      "<class 'pandas.core.frame.DataFrame'>\n",
      "Int64Index: 682208 entries, 2939183 to 3621390\n",
      "Data columns (total 5 columns):\n",
      "time                   682208 non-null object\n",
      "username               663322 non-null object\n",
      "likes                  682208 non-null int64\n",
      "talking_about_count    682208 non-null int64\n",
      "facebook_id            682208 non-null int64\n",
      "dtypes: int64(3), object(2)\n",
      "memory usage: 31.2+ MB\n"
     ]
    }
   ],
   "source": [
    "fb[fb.time.str.contains('2018')].info()"
   ]
  },
  {
   "cell_type": "code",
   "execution_count": 52,
   "metadata": {},
   "outputs": [
    {
     "name": "stdout",
     "output_type": "stream",
     "text": [
      "<class 'pandas.core.frame.DataFrame'>\n",
      "Int64Index: 765717 entries, 1660479 to 2426195\n",
      "Data columns (total 5 columns):\n",
      "as_of_date               765717 non-null object\n",
      "company_name             765717 non-null object\n",
      "followers_count          765717 non-null int64\n",
      "employees_on_platform    765717 non-null int64\n",
      "industry                 765383 non-null object\n",
      "dtypes: int64(2), object(3)\n",
      "memory usage: 35.1+ MB\n"
     ]
    }
   ],
   "source": [
    "ld[ld.as_of_date.str.contains('2018')].info()"
   ]
  },
  {
   "cell_type": "code",
   "execution_count": 112,
   "metadata": {},
   "outputs": [],
   "source": [
    "output_path = 'job_truncated.csv'\n",
    "f = open('job_truncated.csv', 'w+')\n",
    "f.write(',brand,locality,region,date_updated\\n')\n",
    "f.close()"
   ]
  },
  {
   "cell_type": "code",
   "execution_count": 113,
   "metadata": {},
   "outputs": [],
   "source": [
    "jl = pd.read_csv('temp_datalab_records_job_listings.csv', usecols=['brand', 'region', 'date_updated'], parse_dates=True, chunksize=100)"
   ]
  },
  {
   "cell_type": "code",
   "execution_count": 114,
   "metadata": {},
   "outputs": [],
   "source": [
    "for chunk_df in jl:\n",
    "    chunk_df.dropna(axis=0, how='any', inplace=True)\n",
    "    chunk_result = chunk_df[chunk_df['date_updated'].str.contains('2018')]\n",
    "    chunk_result.to_csv(output_path, mode='a', header=False)"
   ]
  },
  {
   "cell_type": "code",
   "execution_count": null,
   "metadata": {},
   "outputs": [],
   "source": []
  },
  {
   "cell_type": "code",
   "execution_count": null,
   "metadata": {},
   "outputs": [],
   "source": []
  }
 ],
 "metadata": {
  "kernelspec": {
   "display_name": "Python 3",
   "language": "python",
   "name": "python3"
  },
  "language_info": {
   "codemirror_mode": {
    "name": "ipython",
    "version": 3
   },
   "file_extension": ".py",
   "mimetype": "text/x-python",
   "name": "python",
   "nbconvert_exporter": "python",
   "pygments_lexer": "ipython3",
   "version": "3.7.3"
  }
 },
 "nbformat": 4,
 "nbformat_minor": 2
}
