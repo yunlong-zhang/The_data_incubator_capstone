{
 "cells": [
  {
   "cell_type": "code",
   "execution_count": 245,
   "metadata": {},
   "outputs": [],
   "source": [
    "import pandas as pd\n",
    "import numpy as np\n",
    "from matplotlib import pyplot as plt"
   ]
  },
  {
   "cell_type": "code",
   "execution_count": 246,
   "metadata": {},
   "outputs": [
    {
     "name": "stderr",
     "output_type": "stream",
     "text": [
      "/Library/Frameworks/Python.framework/Versions/3.7/lib/python3.7/site-packages/IPython/core/interactiveshell.py:3049: DtypeWarning: Columns (9,10) have mixed types. Specify dtype option on import or set low_memory=False.\n",
      "  interactivity=interactivity, compiler=compiler, result=result)\n"
     ]
    },
    {
     "data": {
      "text/html": [
       "<div>\n",
       "<style scoped>\n",
       "    .dataframe tbody tr th:only-of-type {\n",
       "        vertical-align: middle;\n",
       "    }\n",
       "\n",
       "    .dataframe tbody tr th {\n",
       "        vertical-align: top;\n",
       "    }\n",
       "\n",
       "    .dataframe thead th {\n",
       "        text-align: right;\n",
       "    }\n",
       "</style>\n",
       "<table border=\"1\" class=\"dataframe\">\n",
       "  <thead>\n",
       "    <tr style=\"text-align: right;\">\n",
       "      <th></th>\n",
       "      <th>dataset_id</th>\n",
       "      <th>as_of_date</th>\n",
       "      <th>company_name</th>\n",
       "      <th>followers_count</th>\n",
       "      <th>employees_on_platform</th>\n",
       "      <th>link</th>\n",
       "      <th>industry</th>\n",
       "      <th>date_added</th>\n",
       "      <th>date_updated</th>\n",
       "      <th>description</th>\n",
       "      <th>website</th>\n",
       "      <th>entity_id</th>\n",
       "      <th>cusip</th>\n",
       "      <th>isin</th>\n",
       "    </tr>\n",
       "  </thead>\n",
       "  <tbody>\n",
       "    <tr>\n",
       "      <th>0</th>\n",
       "      <td>58329</td>\n",
       "      <td>2015-09-14</td>\n",
       "      <td>Goldman Sachs</td>\n",
       "      <td>552254</td>\n",
       "      <td>38124</td>\n",
       "      <td>https://www.linkedin.com/company/1382</td>\n",
       "      <td>Investment Banking</td>\n",
       "      <td>2015-09-14 00:00:00+00</td>\n",
       "      <td>2015-09-14 00:00:00+00</td>\n",
       "      <td>NaN</td>\n",
       "      <td>NaN</td>\n",
       "      <td>NaN</td>\n",
       "      <td>NaN</td>\n",
       "      <td>NaN</td>\n",
       "    </tr>\n",
       "    <tr>\n",
       "      <th>1</th>\n",
       "      <td>58329</td>\n",
       "      <td>2015-09-15</td>\n",
       "      <td>Goldman Sachs</td>\n",
       "      <td>552862</td>\n",
       "      <td>38141</td>\n",
       "      <td>https://www.linkedin.com/company/1382</td>\n",
       "      <td>Investment Banking</td>\n",
       "      <td>2015-09-15 00:00:00+00</td>\n",
       "      <td>2015-09-15 00:00:00+00</td>\n",
       "      <td>NaN</td>\n",
       "      <td>NaN</td>\n",
       "      <td>NaN</td>\n",
       "      <td>NaN</td>\n",
       "      <td>NaN</td>\n",
       "    </tr>\n",
       "    <tr>\n",
       "      <th>2</th>\n",
       "      <td>58363</td>\n",
       "      <td>2015-09-16</td>\n",
       "      <td>United Technologies</td>\n",
       "      <td>59157</td>\n",
       "      <td>14982</td>\n",
       "      <td>https://www.linkedin.com/company/2426</td>\n",
       "      <td>Aviation &amp; Aerospace</td>\n",
       "      <td>2015-09-16 00:00:00+00</td>\n",
       "      <td>2015-09-16 00:00:00+00</td>\n",
       "      <td>NaN</td>\n",
       "      <td>NaN</td>\n",
       "      <td>NaN</td>\n",
       "      <td>NaN</td>\n",
       "      <td>NaN</td>\n",
       "    </tr>\n",
       "    <tr>\n",
       "      <th>3</th>\n",
       "      <td>58366</td>\n",
       "      <td>2015-09-16</td>\n",
       "      <td>Novo Nordisk</td>\n",
       "      <td>336175</td>\n",
       "      <td>26448</td>\n",
       "      <td>https://www.linkedin.com/company/2227</td>\n",
       "      <td>Pharmaceuticals</td>\n",
       "      <td>2015-09-16 00:00:00+00</td>\n",
       "      <td>2015-09-16 00:00:00+00</td>\n",
       "      <td>NaN</td>\n",
       "      <td>NaN</td>\n",
       "      <td>NaN</td>\n",
       "      <td>NaN</td>\n",
       "      <td>NaN</td>\n",
       "    </tr>\n",
       "    <tr>\n",
       "      <th>4</th>\n",
       "      <td>58371</td>\n",
       "      <td>2015-09-16</td>\n",
       "      <td>Lowe's Companies, Inc.</td>\n",
       "      <td>134255</td>\n",
       "      <td>62574</td>\n",
       "      <td>https://www.linkedin.com/company/4128</td>\n",
       "      <td>Retail</td>\n",
       "      <td>2015-09-16 00:00:00+00</td>\n",
       "      <td>2015-09-16 00:00:00+00</td>\n",
       "      <td>NaN</td>\n",
       "      <td>NaN</td>\n",
       "      <td>NaN</td>\n",
       "      <td>NaN</td>\n",
       "      <td>NaN</td>\n",
       "    </tr>\n",
       "  </tbody>\n",
       "</table>\n",
       "</div>"
      ],
      "text/plain": [
       "   dataset_id  as_of_date            company_name  followers_count  \\\n",
       "0       58329  2015-09-14           Goldman Sachs           552254   \n",
       "1       58329  2015-09-15           Goldman Sachs           552862   \n",
       "2       58363  2015-09-16     United Technologies            59157   \n",
       "3       58366  2015-09-16            Novo Nordisk           336175   \n",
       "4       58371  2015-09-16  Lowe's Companies, Inc.           134255   \n",
       "\n",
       "   employees_on_platform                                   link  \\\n",
       "0                  38124  https://www.linkedin.com/company/1382   \n",
       "1                  38141  https://www.linkedin.com/company/1382   \n",
       "2                  14982  https://www.linkedin.com/company/2426   \n",
       "3                  26448  https://www.linkedin.com/company/2227   \n",
       "4                  62574  https://www.linkedin.com/company/4128   \n",
       "\n",
       "               industry              date_added            date_updated  \\\n",
       "0    Investment Banking  2015-09-14 00:00:00+00  2015-09-14 00:00:00+00   \n",
       "1    Investment Banking  2015-09-15 00:00:00+00  2015-09-15 00:00:00+00   \n",
       "2  Aviation & Aerospace  2015-09-16 00:00:00+00  2015-09-16 00:00:00+00   \n",
       "3       Pharmaceuticals  2015-09-16 00:00:00+00  2015-09-16 00:00:00+00   \n",
       "4                Retail  2015-09-16 00:00:00+00  2015-09-16 00:00:00+00   \n",
       "\n",
       "  description website  entity_id  cusip  isin  \n",
       "0         NaN     NaN        NaN    NaN   NaN  \n",
       "1         NaN     NaN        NaN    NaN   NaN  \n",
       "2         NaN     NaN        NaN    NaN   NaN  \n",
       "3         NaN     NaN        NaN    NaN   NaN  \n",
       "4         NaN     NaN        NaN    NaN   NaN  "
      ]
     },
     "execution_count": 246,
     "metadata": {},
     "output_type": "execute_result"
    }
   ],
   "source": [
    "ld = pd.read_csv('temp_datalab_records_linkedin_company.csv', parse_dates=True)\n",
    "ld.head()"
   ]
  },
  {
   "cell_type": "code",
   "execution_count": 247,
   "metadata": {},
   "outputs": [
    {
     "name": "stderr",
     "output_type": "stream",
     "text": [
      "/Library/Frameworks/Python.framework/Versions/3.7/lib/python3.7/site-packages/IPython/core/interactiveshell.py:3049: DtypeWarning: Columns (9) have mixed types. Specify dtype option on import or set low_memory=False.\n",
      "  interactivity=interactivity, compiler=compiler, result=result)\n"
     ]
    },
    {
     "data": {
      "text/html": [
       "<div>\n",
       "<style scoped>\n",
       "    .dataframe tbody tr th:only-of-type {\n",
       "        vertical-align: middle;\n",
       "    }\n",
       "\n",
       "    .dataframe tbody tr th {\n",
       "        vertical-align: top;\n",
       "    }\n",
       "\n",
       "    .dataframe thead th {\n",
       "        text-align: right;\n",
       "    }\n",
       "</style>\n",
       "<table border=\"1\" class=\"dataframe\">\n",
       "  <thead>\n",
       "    <tr style=\"text-align: right;\">\n",
       "      <th></th>\n",
       "      <th>dataset_id</th>\n",
       "      <th>time</th>\n",
       "      <th>username</th>\n",
       "      <th>checkins</th>\n",
       "      <th>has_added_app</th>\n",
       "      <th>were_here_count</th>\n",
       "      <th>likes</th>\n",
       "      <th>talking_about_count</th>\n",
       "      <th>facebook_id</th>\n",
       "      <th>date_added</th>\n",
       "      <th>date_updated</th>\n",
       "      <th>entity_id</th>\n",
       "      <th>cusip</th>\n",
       "      <th>isin</th>\n",
       "    </tr>\n",
       "  </thead>\n",
       "  <tbody>\n",
       "    <tr>\n",
       "      <th>0</th>\n",
       "      <td>53088</td>\n",
       "      <td>2015-01-01 05:00:00+00</td>\n",
       "      <td>SodaStream</td>\n",
       "      <td>0</td>\n",
       "      <td>f</td>\n",
       "      <td>0</td>\n",
       "      <td>761533</td>\n",
       "      <td>587</td>\n",
       "      <td>54885616308</td>\n",
       "      <td>NaN</td>\n",
       "      <td>2017-02-14 03:35:13.236826+00</td>\n",
       "      <td>NaN</td>\n",
       "      <td>NaN</td>\n",
       "      <td>NaN</td>\n",
       "    </tr>\n",
       "    <tr>\n",
       "      <th>1</th>\n",
       "      <td>52642</td>\n",
       "      <td>2015-01-01 05:00:00+00</td>\n",
       "      <td>ANSYSInc</td>\n",
       "      <td>148</td>\n",
       "      <td>f</td>\n",
       "      <td>0</td>\n",
       "      <td>43442</td>\n",
       "      <td>1305</td>\n",
       "      <td>160242297413411</td>\n",
       "      <td>NaN</td>\n",
       "      <td>2017-02-14 01:55:52.78506+00</td>\n",
       "      <td>NaN</td>\n",
       "      <td>NaN</td>\n",
       "      <td>NaN</td>\n",
       "    </tr>\n",
       "    <tr>\n",
       "      <th>2</th>\n",
       "      <td>53656</td>\n",
       "      <td>2015-01-01 05:00:00+00</td>\n",
       "      <td>MyAquaAmerica</td>\n",
       "      <td>0</td>\n",
       "      <td>f</td>\n",
       "      <td>0</td>\n",
       "      <td>5591</td>\n",
       "      <td>297</td>\n",
       "      <td>591693544195818</td>\n",
       "      <td>NaN</td>\n",
       "      <td>2017-02-14 08:13:51.267343+00</td>\n",
       "      <td>NaN</td>\n",
       "      <td>NaN</td>\n",
       "      <td>NaN</td>\n",
       "    </tr>\n",
       "    <tr>\n",
       "      <th>3</th>\n",
       "      <td>53033</td>\n",
       "      <td>2015-01-01 05:00:00+00</td>\n",
       "      <td>Qualcomm</td>\n",
       "      <td>173</td>\n",
       "      <td>f</td>\n",
       "      <td>0</td>\n",
       "      <td>1232521</td>\n",
       "      <td>2685</td>\n",
       "      <td>108472637291</td>\n",
       "      <td>NaN</td>\n",
       "      <td>2017-02-14 03:24:04.363035+00</td>\n",
       "      <td>NaN</td>\n",
       "      <td>NaN</td>\n",
       "      <td>NaN</td>\n",
       "    </tr>\n",
       "    <tr>\n",
       "      <th>4</th>\n",
       "      <td>52783</td>\n",
       "      <td>2015-01-01 05:00:00+00</td>\n",
       "      <td>eaglepharmaceuticals</td>\n",
       "      <td>0</td>\n",
       "      <td>f</td>\n",
       "      <td>0</td>\n",
       "      <td>18</td>\n",
       "      <td>0</td>\n",
       "      <td>1428265940729350</td>\n",
       "      <td>NaN</td>\n",
       "      <td>2017-02-14 02:22:10.193588+00</td>\n",
       "      <td>NaN</td>\n",
       "      <td>NaN</td>\n",
       "      <td>NaN</td>\n",
       "    </tr>\n",
       "  </tbody>\n",
       "</table>\n",
       "</div>"
      ],
      "text/plain": [
       "   dataset_id                    time              username  checkins  \\\n",
       "0       53088  2015-01-01 05:00:00+00            SodaStream         0   \n",
       "1       52642  2015-01-01 05:00:00+00              ANSYSInc       148   \n",
       "2       53656  2015-01-01 05:00:00+00         MyAquaAmerica         0   \n",
       "3       53033  2015-01-01 05:00:00+00              Qualcomm       173   \n",
       "4       52783  2015-01-01 05:00:00+00  eaglepharmaceuticals         0   \n",
       "\n",
       "  has_added_app  were_here_count    likes  talking_about_count  \\\n",
       "0             f                0   761533                  587   \n",
       "1             f                0    43442                 1305   \n",
       "2             f                0     5591                  297   \n",
       "3             f                0  1232521                 2685   \n",
       "4             f                0       18                    0   \n",
       "\n",
       "        facebook_id date_added                   date_updated  entity_id  \\\n",
       "0       54885616308        NaN  2017-02-14 03:35:13.236826+00        NaN   \n",
       "1   160242297413411        NaN   2017-02-14 01:55:52.78506+00        NaN   \n",
       "2   591693544195818        NaN  2017-02-14 08:13:51.267343+00        NaN   \n",
       "3      108472637291        NaN  2017-02-14 03:24:04.363035+00        NaN   \n",
       "4  1428265940729350        NaN  2017-02-14 02:22:10.193588+00        NaN   \n",
       "\n",
       "   cusip  isin  \n",
       "0    NaN   NaN  \n",
       "1    NaN   NaN  \n",
       "2    NaN   NaN  \n",
       "3    NaN   NaN  \n",
       "4    NaN   NaN  "
      ]
     },
     "execution_count": 247,
     "metadata": {},
     "output_type": "execute_result"
    }
   ],
   "source": [
    "fb = pd.read_csv('temp_datalab_records_social_facebook.csv', parse_dates=True)\n",
    "fb.head()"
   ]
  },
  {
   "cell_type": "code",
   "execution_count": 248,
   "metadata": {},
   "outputs": [
    {
     "data": {
      "text/html": [
       "<div>\n",
       "<style scoped>\n",
       "    .dataframe tbody tr th:only-of-type {\n",
       "        vertical-align: middle;\n",
       "    }\n",
       "\n",
       "    .dataframe tbody tr th {\n",
       "        vertical-align: top;\n",
       "    }\n",
       "\n",
       "    .dataframe thead th {\n",
       "        text-align: right;\n",
       "    }\n",
       "</style>\n",
       "<table border=\"1\" class=\"dataframe\">\n",
       "  <thead>\n",
       "    <tr style=\"text-align: right;\">\n",
       "      <th></th>\n",
       "      <th>dataset_id</th>\n",
       "      <th>as_of_date</th>\n",
       "      <th>company_name</th>\n",
       "      <th>followers_count</th>\n",
       "      <th>employees_on_platform</th>\n",
       "      <th>link</th>\n",
       "      <th>industry</th>\n",
       "      <th>date_added</th>\n",
       "      <th>date_updated</th>\n",
       "      <th>description</th>\n",
       "      <th>website</th>\n",
       "      <th>entity_id</th>\n",
       "      <th>cusip</th>\n",
       "      <th>isin</th>\n",
       "    </tr>\n",
       "  </thead>\n",
       "  <tbody>\n",
       "    <tr>\n",
       "      <th>0</th>\n",
       "      <td>58329</td>\n",
       "      <td>2015-09-14</td>\n",
       "      <td>Goldman Sachs</td>\n",
       "      <td>552254</td>\n",
       "      <td>38124</td>\n",
       "      <td>https://www.linkedin.com/company/1382</td>\n",
       "      <td>Investment Banking</td>\n",
       "      <td>2015-09-14 00:00:00+00</td>\n",
       "      <td>2015-09-14 00:00:00+00</td>\n",
       "      <td>NaN</td>\n",
       "      <td>NaN</td>\n",
       "      <td>NaN</td>\n",
       "      <td>NaN</td>\n",
       "      <td>NaN</td>\n",
       "    </tr>\n",
       "    <tr>\n",
       "      <th>1</th>\n",
       "      <td>58329</td>\n",
       "      <td>2015-09-15</td>\n",
       "      <td>Goldman Sachs</td>\n",
       "      <td>552862</td>\n",
       "      <td>38141</td>\n",
       "      <td>https://www.linkedin.com/company/1382</td>\n",
       "      <td>Investment Banking</td>\n",
       "      <td>2015-09-15 00:00:00+00</td>\n",
       "      <td>2015-09-15 00:00:00+00</td>\n",
       "      <td>NaN</td>\n",
       "      <td>NaN</td>\n",
       "      <td>NaN</td>\n",
       "      <td>NaN</td>\n",
       "      <td>NaN</td>\n",
       "    </tr>\n",
       "    <tr>\n",
       "      <th>2</th>\n",
       "      <td>58363</td>\n",
       "      <td>2015-09-16</td>\n",
       "      <td>United Technologies</td>\n",
       "      <td>59157</td>\n",
       "      <td>14982</td>\n",
       "      <td>https://www.linkedin.com/company/2426</td>\n",
       "      <td>Aviation &amp; Aerospace</td>\n",
       "      <td>2015-09-16 00:00:00+00</td>\n",
       "      <td>2015-09-16 00:00:00+00</td>\n",
       "      <td>NaN</td>\n",
       "      <td>NaN</td>\n",
       "      <td>NaN</td>\n",
       "      <td>NaN</td>\n",
       "      <td>NaN</td>\n",
       "    </tr>\n",
       "    <tr>\n",
       "      <th>3</th>\n",
       "      <td>58366</td>\n",
       "      <td>2015-09-16</td>\n",
       "      <td>Novo Nordisk</td>\n",
       "      <td>336175</td>\n",
       "      <td>26448</td>\n",
       "      <td>https://www.linkedin.com/company/2227</td>\n",
       "      <td>Pharmaceuticals</td>\n",
       "      <td>2015-09-16 00:00:00+00</td>\n",
       "      <td>2015-09-16 00:00:00+00</td>\n",
       "      <td>NaN</td>\n",
       "      <td>NaN</td>\n",
       "      <td>NaN</td>\n",
       "      <td>NaN</td>\n",
       "      <td>NaN</td>\n",
       "    </tr>\n",
       "    <tr>\n",
       "      <th>4</th>\n",
       "      <td>58371</td>\n",
       "      <td>2015-09-16</td>\n",
       "      <td>Lowe's Companies, Inc.</td>\n",
       "      <td>134255</td>\n",
       "      <td>62574</td>\n",
       "      <td>https://www.linkedin.com/company/4128</td>\n",
       "      <td>Retail</td>\n",
       "      <td>2015-09-16 00:00:00+00</td>\n",
       "      <td>2015-09-16 00:00:00+00</td>\n",
       "      <td>NaN</td>\n",
       "      <td>NaN</td>\n",
       "      <td>NaN</td>\n",
       "      <td>NaN</td>\n",
       "      <td>NaN</td>\n",
       "    </tr>\n",
       "  </tbody>\n",
       "</table>\n",
       "</div>"
      ],
      "text/plain": [
       "   dataset_id  as_of_date            company_name  followers_count  \\\n",
       "0       58329  2015-09-14           Goldman Sachs           552254   \n",
       "1       58329  2015-09-15           Goldman Sachs           552862   \n",
       "2       58363  2015-09-16     United Technologies            59157   \n",
       "3       58366  2015-09-16            Novo Nordisk           336175   \n",
       "4       58371  2015-09-16  Lowe's Companies, Inc.           134255   \n",
       "\n",
       "   employees_on_platform                                   link  \\\n",
       "0                  38124  https://www.linkedin.com/company/1382   \n",
       "1                  38141  https://www.linkedin.com/company/1382   \n",
       "2                  14982  https://www.linkedin.com/company/2426   \n",
       "3                  26448  https://www.linkedin.com/company/2227   \n",
       "4                  62574  https://www.linkedin.com/company/4128   \n",
       "\n",
       "               industry              date_added            date_updated  \\\n",
       "0    Investment Banking  2015-09-14 00:00:00+00  2015-09-14 00:00:00+00   \n",
       "1    Investment Banking  2015-09-15 00:00:00+00  2015-09-15 00:00:00+00   \n",
       "2  Aviation & Aerospace  2015-09-16 00:00:00+00  2015-09-16 00:00:00+00   \n",
       "3       Pharmaceuticals  2015-09-16 00:00:00+00  2015-09-16 00:00:00+00   \n",
       "4                Retail  2015-09-16 00:00:00+00  2015-09-16 00:00:00+00   \n",
       "\n",
       "  description website  entity_id  cusip  isin  \n",
       "0         NaN     NaN        NaN    NaN   NaN  \n",
       "1         NaN     NaN        NaN    NaN   NaN  \n",
       "2         NaN     NaN        NaN    NaN   NaN  \n",
       "3         NaN     NaN        NaN    NaN   NaN  \n",
       "4         NaN     NaN        NaN    NaN   NaN  "
      ]
     },
     "execution_count": 248,
     "metadata": {},
     "output_type": "execute_result"
    }
   ],
   "source": [
    "ld.head()"
   ]
  },
  {
   "cell_type": "markdown",
   "metadata": {},
   "source": [
    "### Count the null values"
   ]
  },
  {
   "cell_type": "code",
   "execution_count": 249,
   "metadata": {},
   "outputs": [
    {
     "data": {
      "text/plain": [
       "dataset_id                   0\n",
       "time                         0\n",
       "username                120929\n",
       "checkins                     0\n",
       "has_added_app                0\n",
       "were_here_count              0\n",
       "likes                        0\n",
       "talking_about_count          0\n",
       "facebook_id                  0\n",
       "date_added             1522285\n",
       "date_updated              1364\n",
       "entity_id              3621391\n",
       "cusip                  3621391\n",
       "isin                   3621391\n",
       "dtype: int64"
      ]
     },
     "execution_count": 249,
     "metadata": {},
     "output_type": "execute_result"
    }
   ],
   "source": [
    "fb.isna().sum()"
   ]
  },
  {
   "cell_type": "code",
   "execution_count": 250,
   "metadata": {},
   "outputs": [
    {
     "data": {
      "text/plain": [
       "(3621391, 14)"
      ]
     },
     "execution_count": 250,
     "metadata": {},
     "output_type": "execute_result"
    }
   ],
   "source": [
    "fb.shape"
   ]
  },
  {
   "cell_type": "code",
   "execution_count": 251,
   "metadata": {},
   "outputs": [],
   "source": [
    "fb = fb.drop(['entity_id', 'cusip', 'isin', 'date_added'], axis=1)"
   ]
  },
  {
   "cell_type": "markdown",
   "metadata": {},
   "source": [
    "### Check the relationship between facebook_id and username. Then fill the empty username accordingly."
   ]
  },
  {
   "cell_type": "code",
   "execution_count": 252,
   "metadata": {},
   "outputs": [],
   "source": [
    "None_name_id = fb[fb.username.isna()].facebook_id.to_list()"
   ]
  },
  {
   "cell_type": "code",
   "execution_count": 253,
   "metadata": {},
   "outputs": [],
   "source": [
    "fill_name_df = fb[fb.facebook_id.isin(None_name_id)].loc[:, ['username', 'facebook_id']].dropna(axis=0)"
   ]
  },
  {
   "cell_type": "code",
   "execution_count": 254,
   "metadata": {},
   "outputs": [],
   "source": [
    "fill_name_df = fill_name_df.groupby('facebook_id').first()"
   ]
  },
  {
   "cell_type": "code",
   "execution_count": 255,
   "metadata": {},
   "outputs": [
    {
     "data": {
      "text/html": [
       "<div>\n",
       "<style scoped>\n",
       "    .dataframe tbody tr th:only-of-type {\n",
       "        vertical-align: middle;\n",
       "    }\n",
       "\n",
       "    .dataframe tbody tr th {\n",
       "        vertical-align: top;\n",
       "    }\n",
       "\n",
       "    .dataframe thead th {\n",
       "        text-align: right;\n",
       "    }\n",
       "</style>\n",
       "<table border=\"1\" class=\"dataframe\">\n",
       "  <thead>\n",
       "    <tr style=\"text-align: right;\">\n",
       "      <th></th>\n",
       "      <th>username</th>\n",
       "    </tr>\n",
       "    <tr>\n",
       "      <th>facebook_id</th>\n",
       "      <th></th>\n",
       "    </tr>\n",
       "  </thead>\n",
       "  <tbody>\n",
       "    <tr>\n",
       "      <th>6566864515</th>\n",
       "      <td>USATODAYHSS</td>\n",
       "    </tr>\n",
       "    <tr>\n",
       "      <th>12098993287</th>\n",
       "      <td>SnaponTools</td>\n",
       "    </tr>\n",
       "    <tr>\n",
       "      <th>30547671514</th>\n",
       "      <td>BlackAndDecker</td>\n",
       "    </tr>\n",
       "    <tr>\n",
       "      <th>38312288006</th>\n",
       "      <td>Partnersfromthefirst</td>\n",
       "    </tr>\n",
       "    <tr>\n",
       "      <th>39925915994</th>\n",
       "      <td>TheYankeeCandleCompany</td>\n",
       "    </tr>\n",
       "  </tbody>\n",
       "</table>\n",
       "</div>"
      ],
      "text/plain": [
       "                           username\n",
       "facebook_id                        \n",
       "6566864515              USATODAYHSS\n",
       "12098993287             SnaponTools\n",
       "30547671514          BlackAndDecker\n",
       "38312288006    Partnersfromthefirst\n",
       "39925915994  TheYankeeCandleCompany"
      ]
     },
     "execution_count": 255,
     "metadata": {},
     "output_type": "execute_result"
    }
   ],
   "source": [
    "fill_name_df.head()"
   ]
  },
  {
   "cell_type": "code",
   "execution_count": 256,
   "metadata": {},
   "outputs": [],
   "source": [
    "fill_name_dict = dict(zip(fill_name_df.index, fill_name_df.username))"
   ]
  },
  {
   "cell_type": "code",
   "execution_count": 257,
   "metadata": {},
   "outputs": [],
   "source": [
    "for i in range(fb.shape[0]):\n",
    "    if pd.isnull(fb.loc[i, 'username']):\n",
    "        if fb.loc[i, 'facebook_id'] in fill_name_dict.keys():\n",
    "            fb.loc[i, 'username'] = fill_name_dict[fb.loc[i, 'facebook_id']]"
   ]
  },
  {
   "cell_type": "code",
   "execution_count": 258,
   "metadata": {},
   "outputs": [
    {
     "data": {
      "text/plain": [
       "dataset_id                 0\n",
       "time                       0\n",
       "username               79942\n",
       "checkins                   0\n",
       "has_added_app              0\n",
       "were_here_count            0\n",
       "likes                      0\n",
       "talking_about_count        0\n",
       "facebook_id                0\n",
       "date_updated            1364\n",
       "dtype: int64"
      ]
     },
     "execution_count": 258,
     "metadata": {},
     "output_type": "execute_result"
    }
   ],
   "source": [
    "fb.isna().sum()"
   ]
  },
  {
   "cell_type": "code",
   "execution_count": 259,
   "metadata": {},
   "outputs": [],
   "source": [
    "# fb.to_csv('fb_cleaned.csv')"
   ]
  },
  {
   "cell_type": "code",
   "execution_count": 260,
   "metadata": {},
   "outputs": [],
   "source": [
    "fb.date_updated = fb.date_updated.fillna(method='ffill')"
   ]
  },
  {
   "cell_type": "code",
   "execution_count": 261,
   "metadata": {},
   "outputs": [
    {
     "data": {
      "text/plain": [
       "dataset_id             0\n",
       "time                   0\n",
       "username               0\n",
       "checkins               0\n",
       "has_added_app          0\n",
       "were_here_count        0\n",
       "likes                  0\n",
       "talking_about_count    0\n",
       "facebook_id            0\n",
       "date_updated           0\n",
       "dtype: int64"
      ]
     },
     "execution_count": 261,
     "metadata": {},
     "output_type": "execute_result"
    }
   ],
   "source": [
    "fb.dropna(axis=0, inplace=True)\n",
    "fb.isna().sum()"
   ]
  },
  {
   "cell_type": "markdown",
   "metadata": {},
   "source": [
    "### Clean up LinkedIn data"
   ]
  },
  {
   "cell_type": "code",
   "execution_count": 262,
   "metadata": {},
   "outputs": [
    {
     "data": {
      "text/plain": [
       "dataset_id                     0\n",
       "as_of_date                     0\n",
       "company_name                   0\n",
       "followers_count                0\n",
       "employees_on_platform          0\n",
       "link                           0\n",
       "industry                   36265\n",
       "date_added                     0\n",
       "date_updated                   0\n",
       "description              1825278\n",
       "website                  1935971\n",
       "entity_id                2426196\n",
       "cusip                    2426196\n",
       "isin                     2426196\n",
       "dtype: int64"
      ]
     },
     "execution_count": 262,
     "metadata": {},
     "output_type": "execute_result"
    }
   ],
   "source": [
    "ld.isna().sum()"
   ]
  },
  {
   "cell_type": "code",
   "execution_count": 263,
   "metadata": {},
   "outputs": [
    {
     "data": {
      "text/plain": [
       "(2426196, 14)"
      ]
     },
     "execution_count": 263,
     "metadata": {},
     "output_type": "execute_result"
    }
   ],
   "source": [
    "ld.shape"
   ]
  },
  {
   "cell_type": "code",
   "execution_count": 264,
   "metadata": {},
   "outputs": [],
   "source": [
    "ld.drop(['entity_id', 'cusip', 'isin'], axis=1, inplace =True)"
   ]
  },
  {
   "cell_type": "code",
   "execution_count": 265,
   "metadata": {},
   "outputs": [],
   "source": [
    "selected_fill_industry = ld[~ld.description.isna() & ld.industry.isna()].description.index"
   ]
  },
  {
   "cell_type": "code",
   "execution_count": 266,
   "metadata": {},
   "outputs": [],
   "source": [
    "for i in selected_fill_industry:\n",
    "    ld.loc[i, 'industry'] = 'Furniture'"
   ]
  },
  {
   "cell_type": "code",
   "execution_count": 267,
   "metadata": {},
   "outputs": [
    {
     "data": {
      "text/plain": [
       "dataset_id                   0\n",
       "as_of_date                   0\n",
       "company_name                 0\n",
       "followers_count              0\n",
       "employees_on_platform        0\n",
       "link                         0\n",
       "industry                 36171\n",
       "date_added                   0\n",
       "date_updated                 0\n",
       "dtype: int64"
      ]
     },
     "execution_count": 267,
     "metadata": {},
     "output_type": "execute_result"
    }
   ],
   "source": [
    "ld.drop(['description', 'website'], axis=1, inplace=True)\n",
    "ld.isna().sum()"
   ]
  },
  {
   "cell_type": "code",
   "execution_count": 268,
   "metadata": {},
   "outputs": [],
   "source": [
    "com_industry = ld[~ld.industry.isna()].groupby('company_name').first().industry"
   ]
  },
  {
   "cell_type": "code",
   "execution_count": 269,
   "metadata": {},
   "outputs": [
    {
     "data": {
      "text/plain": [
       "dataset_id                 0\n",
       "as_of_date                 0\n",
       "company_name               0\n",
       "followers_count            0\n",
       "employees_on_platform      0\n",
       "link                       0\n",
       "industry                 717\n",
       "date_added                 0\n",
       "date_updated               0\n",
       "dtype: int64"
      ]
     },
     "execution_count": 269,
     "metadata": {},
     "output_type": "execute_result"
    }
   ],
   "source": [
    "for i in range(ld.shape[0]):\n",
    "    if pd.isnull(ld.loc[i, 'industry']):\n",
    "        if ld.loc[i, 'company_name'] in com_industry.index:\n",
    "            ld.loc[i, 'industry'] = com_industry[ld.loc[i, 'company_name']]\n",
    "ld.isna().sum()"
   ]
  },
  {
   "cell_type": "code",
   "execution_count": 270,
   "metadata": {},
   "outputs": [],
   "source": [
    "ld.industry.fillna('Other', inplace=True)\n",
    "# ld.to_csv('ld_cleaned.csv')"
   ]
  },
  {
   "cell_type": "code",
   "execution_count": 271,
   "metadata": {},
   "outputs": [
    {
     "data": {
      "text/html": [
       "<div>\n",
       "<style scoped>\n",
       "    .dataframe tbody tr th:only-of-type {\n",
       "        vertical-align: middle;\n",
       "    }\n",
       "\n",
       "    .dataframe tbody tr th {\n",
       "        vertical-align: top;\n",
       "    }\n",
       "\n",
       "    .dataframe thead th {\n",
       "        text-align: right;\n",
       "    }\n",
       "</style>\n",
       "<table border=\"1\" class=\"dataframe\">\n",
       "  <thead>\n",
       "    <tr style=\"text-align: right;\">\n",
       "      <th></th>\n",
       "      <th>dataset_id</th>\n",
       "      <th>time</th>\n",
       "      <th>username</th>\n",
       "      <th>checkins</th>\n",
       "      <th>has_added_app</th>\n",
       "      <th>were_here_count</th>\n",
       "      <th>likes</th>\n",
       "      <th>talking_about_count</th>\n",
       "      <th>facebook_id</th>\n",
       "      <th>date_updated</th>\n",
       "    </tr>\n",
       "  </thead>\n",
       "  <tbody>\n",
       "    <tr>\n",
       "      <th>0</th>\n",
       "      <td>53088</td>\n",
       "      <td>2015-01-01 05:00:00+00</td>\n",
       "      <td>SodaStream</td>\n",
       "      <td>0</td>\n",
       "      <td>f</td>\n",
       "      <td>0</td>\n",
       "      <td>761533</td>\n",
       "      <td>587</td>\n",
       "      <td>54885616308</td>\n",
       "      <td>2017-02-14 03:35:13.236826+00</td>\n",
       "    </tr>\n",
       "    <tr>\n",
       "      <th>1</th>\n",
       "      <td>52642</td>\n",
       "      <td>2015-01-01 05:00:00+00</td>\n",
       "      <td>ANSYSInc</td>\n",
       "      <td>148</td>\n",
       "      <td>f</td>\n",
       "      <td>0</td>\n",
       "      <td>43442</td>\n",
       "      <td>1305</td>\n",
       "      <td>160242297413411</td>\n",
       "      <td>2017-02-14 01:55:52.78506+00</td>\n",
       "    </tr>\n",
       "    <tr>\n",
       "      <th>2</th>\n",
       "      <td>53656</td>\n",
       "      <td>2015-01-01 05:00:00+00</td>\n",
       "      <td>MyAquaAmerica</td>\n",
       "      <td>0</td>\n",
       "      <td>f</td>\n",
       "      <td>0</td>\n",
       "      <td>5591</td>\n",
       "      <td>297</td>\n",
       "      <td>591693544195818</td>\n",
       "      <td>2017-02-14 08:13:51.267343+00</td>\n",
       "    </tr>\n",
       "    <tr>\n",
       "      <th>3</th>\n",
       "      <td>53033</td>\n",
       "      <td>2015-01-01 05:00:00+00</td>\n",
       "      <td>Qualcomm</td>\n",
       "      <td>173</td>\n",
       "      <td>f</td>\n",
       "      <td>0</td>\n",
       "      <td>1232521</td>\n",
       "      <td>2685</td>\n",
       "      <td>108472637291</td>\n",
       "      <td>2017-02-14 03:24:04.363035+00</td>\n",
       "    </tr>\n",
       "    <tr>\n",
       "      <th>4</th>\n",
       "      <td>52783</td>\n",
       "      <td>2015-01-01 05:00:00+00</td>\n",
       "      <td>eaglepharmaceuticals</td>\n",
       "      <td>0</td>\n",
       "      <td>f</td>\n",
       "      <td>0</td>\n",
       "      <td>18</td>\n",
       "      <td>0</td>\n",
       "      <td>1428265940729350</td>\n",
       "      <td>2017-02-14 02:22:10.193588+00</td>\n",
       "    </tr>\n",
       "  </tbody>\n",
       "</table>\n",
       "</div>"
      ],
      "text/plain": [
       "   dataset_id                    time              username  checkins  \\\n",
       "0       53088  2015-01-01 05:00:00+00            SodaStream         0   \n",
       "1       52642  2015-01-01 05:00:00+00              ANSYSInc       148   \n",
       "2       53656  2015-01-01 05:00:00+00         MyAquaAmerica         0   \n",
       "3       53033  2015-01-01 05:00:00+00              Qualcomm       173   \n",
       "4       52783  2015-01-01 05:00:00+00  eaglepharmaceuticals         0   \n",
       "\n",
       "  has_added_app  were_here_count    likes  talking_about_count  \\\n",
       "0             f                0   761533                  587   \n",
       "1             f                0    43442                 1305   \n",
       "2             f                0     5591                  297   \n",
       "3             f                0  1232521                 2685   \n",
       "4             f                0       18                    0   \n",
       "\n",
       "        facebook_id                   date_updated  \n",
       "0       54885616308  2017-02-14 03:35:13.236826+00  \n",
       "1   160242297413411   2017-02-14 01:55:52.78506+00  \n",
       "2   591693544195818  2017-02-14 08:13:51.267343+00  \n",
       "3      108472637291  2017-02-14 03:24:04.363035+00  \n",
       "4  1428265940729350  2017-02-14 02:22:10.193588+00  "
      ]
     },
     "execution_count": 271,
     "metadata": {},
     "output_type": "execute_result"
    }
   ],
   "source": [
    "fb.head()"
   ]
  },
  {
   "cell_type": "code",
   "execution_count": 272,
   "metadata": {},
   "outputs": [
    {
     "data": {
      "text/html": [
       "<div>\n",
       "<style scoped>\n",
       "    .dataframe tbody tr th:only-of-type {\n",
       "        vertical-align: middle;\n",
       "    }\n",
       "\n",
       "    .dataframe tbody tr th {\n",
       "        vertical-align: top;\n",
       "    }\n",
       "\n",
       "    .dataframe thead th {\n",
       "        text-align: right;\n",
       "    }\n",
       "</style>\n",
       "<table border=\"1\" class=\"dataframe\">\n",
       "  <thead>\n",
       "    <tr style=\"text-align: right;\">\n",
       "      <th></th>\n",
       "      <th>dataset_id</th>\n",
       "      <th>as_of_date</th>\n",
       "      <th>company_name</th>\n",
       "      <th>followers_count</th>\n",
       "      <th>employees_on_platform</th>\n",
       "      <th>link</th>\n",
       "      <th>industry</th>\n",
       "      <th>date_added</th>\n",
       "      <th>date_updated</th>\n",
       "    </tr>\n",
       "  </thead>\n",
       "  <tbody>\n",
       "    <tr>\n",
       "      <th>0</th>\n",
       "      <td>58329</td>\n",
       "      <td>2015-09-14</td>\n",
       "      <td>Goldman Sachs</td>\n",
       "      <td>552254</td>\n",
       "      <td>38124</td>\n",
       "      <td>https://www.linkedin.com/company/1382</td>\n",
       "      <td>Investment Banking</td>\n",
       "      <td>2015-09-14 00:00:00+00</td>\n",
       "      <td>2015-09-14 00:00:00+00</td>\n",
       "    </tr>\n",
       "    <tr>\n",
       "      <th>1</th>\n",
       "      <td>58329</td>\n",
       "      <td>2015-09-15</td>\n",
       "      <td>Goldman Sachs</td>\n",
       "      <td>552862</td>\n",
       "      <td>38141</td>\n",
       "      <td>https://www.linkedin.com/company/1382</td>\n",
       "      <td>Investment Banking</td>\n",
       "      <td>2015-09-15 00:00:00+00</td>\n",
       "      <td>2015-09-15 00:00:00+00</td>\n",
       "    </tr>\n",
       "    <tr>\n",
       "      <th>2</th>\n",
       "      <td>58363</td>\n",
       "      <td>2015-09-16</td>\n",
       "      <td>United Technologies</td>\n",
       "      <td>59157</td>\n",
       "      <td>14982</td>\n",
       "      <td>https://www.linkedin.com/company/2426</td>\n",
       "      <td>Aviation &amp; Aerospace</td>\n",
       "      <td>2015-09-16 00:00:00+00</td>\n",
       "      <td>2015-09-16 00:00:00+00</td>\n",
       "    </tr>\n",
       "    <tr>\n",
       "      <th>3</th>\n",
       "      <td>58366</td>\n",
       "      <td>2015-09-16</td>\n",
       "      <td>Novo Nordisk</td>\n",
       "      <td>336175</td>\n",
       "      <td>26448</td>\n",
       "      <td>https://www.linkedin.com/company/2227</td>\n",
       "      <td>Pharmaceuticals</td>\n",
       "      <td>2015-09-16 00:00:00+00</td>\n",
       "      <td>2015-09-16 00:00:00+00</td>\n",
       "    </tr>\n",
       "    <tr>\n",
       "      <th>4</th>\n",
       "      <td>58371</td>\n",
       "      <td>2015-09-16</td>\n",
       "      <td>Lowe's Companies, Inc.</td>\n",
       "      <td>134255</td>\n",
       "      <td>62574</td>\n",
       "      <td>https://www.linkedin.com/company/4128</td>\n",
       "      <td>Retail</td>\n",
       "      <td>2015-09-16 00:00:00+00</td>\n",
       "      <td>2015-09-16 00:00:00+00</td>\n",
       "    </tr>\n",
       "  </tbody>\n",
       "</table>\n",
       "</div>"
      ],
      "text/plain": [
       "   dataset_id  as_of_date            company_name  followers_count  \\\n",
       "0       58329  2015-09-14           Goldman Sachs           552254   \n",
       "1       58329  2015-09-15           Goldman Sachs           552862   \n",
       "2       58363  2015-09-16     United Technologies            59157   \n",
       "3       58366  2015-09-16            Novo Nordisk           336175   \n",
       "4       58371  2015-09-16  Lowe's Companies, Inc.           134255   \n",
       "\n",
       "   employees_on_platform                                   link  \\\n",
       "0                  38124  https://www.linkedin.com/company/1382   \n",
       "1                  38141  https://www.linkedin.com/company/1382   \n",
       "2                  14982  https://www.linkedin.com/company/2426   \n",
       "3                  26448  https://www.linkedin.com/company/2227   \n",
       "4                  62574  https://www.linkedin.com/company/4128   \n",
       "\n",
       "               industry              date_added            date_updated  \n",
       "0    Investment Banking  2015-09-14 00:00:00+00  2015-09-14 00:00:00+00  \n",
       "1    Investment Banking  2015-09-15 00:00:00+00  2015-09-15 00:00:00+00  \n",
       "2  Aviation & Aerospace  2015-09-16 00:00:00+00  2015-09-16 00:00:00+00  \n",
       "3       Pharmaceuticals  2015-09-16 00:00:00+00  2015-09-16 00:00:00+00  \n",
       "4                Retail  2015-09-16 00:00:00+00  2015-09-16 00:00:00+00  "
      ]
     },
     "execution_count": 272,
     "metadata": {},
     "output_type": "execute_result"
    }
   ],
   "source": [
    "ld.head()"
   ]
  },
  {
   "cell_type": "code",
   "execution_count": 273,
   "metadata": {},
   "outputs": [],
   "source": [
    "ld.company_name = ld.company_name.apply(lambda x: x.strip().lower())\n",
    "fb.username = fb.username.apply(lambda x: x.strip().lower())"
   ]
  },
  {
   "cell_type": "code",
   "execution_count": 274,
   "metadata": {},
   "outputs": [
    {
     "data": {
      "text/plain": [
       "5003"
      ]
     },
     "execution_count": 274,
     "metadata": {},
     "output_type": "execute_result"
    }
   ],
   "source": [
    "len(ld.company_name.unique())"
   ]
  },
  {
   "cell_type": "code",
   "execution_count": 275,
   "metadata": {},
   "outputs": [
    {
     "data": {
      "text/plain": [
       "3541449"
      ]
     },
     "execution_count": 275,
     "metadata": {},
     "output_type": "execute_result"
    }
   ],
   "source": [
    "len(fb.username)"
   ]
  },
  {
   "cell_type": "code",
   "execution_count": 276,
   "metadata": {},
   "outputs": [
    {
     "data": {
      "text/html": [
       "<div>\n",
       "<style scoped>\n",
       "    .dataframe tbody tr th:only-of-type {\n",
       "        vertical-align: middle;\n",
       "    }\n",
       "\n",
       "    .dataframe tbody tr th {\n",
       "        vertical-align: top;\n",
       "    }\n",
       "\n",
       "    .dataframe thead th {\n",
       "        text-align: right;\n",
       "    }\n",
       "</style>\n",
       "<table border=\"1\" class=\"dataframe\">\n",
       "  <thead>\n",
       "    <tr style=\"text-align: right;\">\n",
       "      <th></th>\n",
       "      <th>dataset_id</th>\n",
       "      <th>as_of_date</th>\n",
       "      <th>company_name</th>\n",
       "      <th>followers_count</th>\n",
       "      <th>employees_on_platform</th>\n",
       "      <th>link</th>\n",
       "      <th>industry</th>\n",
       "      <th>date_added</th>\n",
       "      <th>date_updated</th>\n",
       "    </tr>\n",
       "  </thead>\n",
       "  <tbody>\n",
       "    <tr>\n",
       "      <th>0</th>\n",
       "      <td>58329</td>\n",
       "      <td>2015-09-14</td>\n",
       "      <td>goldman sachs</td>\n",
       "      <td>552254</td>\n",
       "      <td>38124</td>\n",
       "      <td>https://www.linkedin.com/company/1382</td>\n",
       "      <td>Investment Banking</td>\n",
       "      <td>2015-09-14 00:00:00+00</td>\n",
       "      <td>2015-09-14 00:00:00+00</td>\n",
       "    </tr>\n",
       "    <tr>\n",
       "      <th>1</th>\n",
       "      <td>58329</td>\n",
       "      <td>2015-09-15</td>\n",
       "      <td>goldman sachs</td>\n",
       "      <td>552862</td>\n",
       "      <td>38141</td>\n",
       "      <td>https://www.linkedin.com/company/1382</td>\n",
       "      <td>Investment Banking</td>\n",
       "      <td>2015-09-15 00:00:00+00</td>\n",
       "      <td>2015-09-15 00:00:00+00</td>\n",
       "    </tr>\n",
       "    <tr>\n",
       "      <th>2</th>\n",
       "      <td>58363</td>\n",
       "      <td>2015-09-16</td>\n",
       "      <td>united technologies</td>\n",
       "      <td>59157</td>\n",
       "      <td>14982</td>\n",
       "      <td>https://www.linkedin.com/company/2426</td>\n",
       "      <td>Aviation &amp; Aerospace</td>\n",
       "      <td>2015-09-16 00:00:00+00</td>\n",
       "      <td>2015-09-16 00:00:00+00</td>\n",
       "    </tr>\n",
       "    <tr>\n",
       "      <th>3</th>\n",
       "      <td>58366</td>\n",
       "      <td>2015-09-16</td>\n",
       "      <td>novo nordisk</td>\n",
       "      <td>336175</td>\n",
       "      <td>26448</td>\n",
       "      <td>https://www.linkedin.com/company/2227</td>\n",
       "      <td>Pharmaceuticals</td>\n",
       "      <td>2015-09-16 00:00:00+00</td>\n",
       "      <td>2015-09-16 00:00:00+00</td>\n",
       "    </tr>\n",
       "    <tr>\n",
       "      <th>4</th>\n",
       "      <td>58371</td>\n",
       "      <td>2015-09-16</td>\n",
       "      <td>lowe's companies, inc.</td>\n",
       "      <td>134255</td>\n",
       "      <td>62574</td>\n",
       "      <td>https://www.linkedin.com/company/4128</td>\n",
       "      <td>Retail</td>\n",
       "      <td>2015-09-16 00:00:00+00</td>\n",
       "      <td>2015-09-16 00:00:00+00</td>\n",
       "    </tr>\n",
       "  </tbody>\n",
       "</table>\n",
       "</div>"
      ],
      "text/plain": [
       "   dataset_id  as_of_date            company_name  followers_count  \\\n",
       "0       58329  2015-09-14           goldman sachs           552254   \n",
       "1       58329  2015-09-15           goldman sachs           552862   \n",
       "2       58363  2015-09-16     united technologies            59157   \n",
       "3       58366  2015-09-16            novo nordisk           336175   \n",
       "4       58371  2015-09-16  lowe's companies, inc.           134255   \n",
       "\n",
       "   employees_on_platform                                   link  \\\n",
       "0                  38124  https://www.linkedin.com/company/1382   \n",
       "1                  38141  https://www.linkedin.com/company/1382   \n",
       "2                  14982  https://www.linkedin.com/company/2426   \n",
       "3                  26448  https://www.linkedin.com/company/2227   \n",
       "4                  62574  https://www.linkedin.com/company/4128   \n",
       "\n",
       "               industry              date_added            date_updated  \n",
       "0    Investment Banking  2015-09-14 00:00:00+00  2015-09-14 00:00:00+00  \n",
       "1    Investment Banking  2015-09-15 00:00:00+00  2015-09-15 00:00:00+00  \n",
       "2  Aviation & Aerospace  2015-09-16 00:00:00+00  2015-09-16 00:00:00+00  \n",
       "3       Pharmaceuticals  2015-09-16 00:00:00+00  2015-09-16 00:00:00+00  \n",
       "4                Retail  2015-09-16 00:00:00+00  2015-09-16 00:00:00+00  "
      ]
     },
     "execution_count": 276,
     "metadata": {},
     "output_type": "execute_result"
    }
   ],
   "source": [
    "ld.head()"
   ]
  },
  {
   "cell_type": "code",
   "execution_count": 277,
   "metadata": {},
   "outputs": [],
   "source": [
    "ld_names = ld.company_name.sort_values().unique().tolist()\n",
    "fb_names = fb.username.sort_values().unique().tolist()"
   ]
  },
  {
   "cell_type": "code",
   "execution_count": 278,
   "metadata": {},
   "outputs": [],
   "source": [
    "fb_names_gen = [x.strip().lower() for x in fb_names]\n",
    "ld_names_gen = [x.strip().lower() for x in ld_names]"
   ]
  },
  {
   "cell_type": "code",
   "execution_count": 279,
   "metadata": {},
   "outputs": [
    {
     "data": {
      "text/plain": [
       "['1-800-flowers.com, inc.',\n",
       " '1800petmeds',\n",
       " '1st constitution bank',\n",
       " '1st security bank of washington',\n",
       " '1st source bank',\n",
       " '2020b llc',\n",
       " '21 club',\n",
       " '21st century fox',\n",
       " '21vianet group,inc.',\n",
       " '2k',\n",
       " '3 phase line construction inc.',\n",
       " '3d material technologies, llc',\n",
       " '3d systems corporation',\n",
       " '3m',\n",
       " '3m electronic monitoring ltd.',\n",
       " '40|86 advisors',\n",
       " '51job',\n",
       " '58.com inc',\n",
       " '8x8',\n",
       " '99']"
      ]
     },
     "execution_count": 279,
     "metadata": {},
     "output_type": "execute_result"
    }
   ],
   "source": [
    "ld_names_gen[:20]"
   ]
  },
  {
   "cell_type": "code",
   "execution_count": 280,
   "metadata": {},
   "outputs": [
    {
     "data": {
      "text/plain": [
       "['1011news',\n",
       " '1019thewolf',\n",
       " '1027wgus',\n",
       " '105.7wror',\n",
       " '1079mixfm',\n",
       " '10best',\n",
       " '1800flowers',\n",
       " '1shoppingcart',\n",
       " '1st.sec.bank',\n",
       " '1stdetect',\n",
       " '1stfederalbank',\n",
       " '1stguard',\n",
       " '1stsourcebank',\n",
       " '21club',\n",
       " '23wifr',\n",
       " '247sports',\n",
       " '2u',\n",
       " '30avacationrental',\n",
       " '360blue30a',\n",
       " '365bywholefoods']"
      ]
     },
     "execution_count": 280,
     "metadata": {},
     "output_type": "execute_result"
    }
   ],
   "source": [
    "fb_names_gen[:20]"
   ]
  },
  {
   "cell_type": "code",
   "execution_count": 281,
   "metadata": {},
   "outputs": [],
   "source": [
    "from difflib import SequenceMatcher\n",
    "def similar(a, b):\n",
    "    return SequenceMatcher(None, a, b).ratio()"
   ]
  },
  {
   "cell_type": "code",
   "execution_count": 282,
   "metadata": {},
   "outputs": [
    {
     "name": "stdout",
     "output_type": "stream",
     "text": [
      "{'': '搜房网', 'petmeds': '1800petmeds', '1stsourcebank': '1st source bank', '21club': '21 club', '3m': '3m', 'aosmithcorporation': 'ambient corporation', 'a10networks': 'amc networks', 'amazon': 'amazon', 'aarcorp': 'aar corp.', 'aaronbrothers': 'aaron brothers, inc.', 'aaronsinc': \"aaron's, inc\", 'abb': 'abb', 'abbott': 'abbott', 'abiomed': 'biomet', 'abmindustries': 'nabors industries', 'aboutdotcom': 'about.com', 'abxairinc': 'abx air, inc.', 'oahealthcare': 'hca healthcare', 'acceleratediagnostics': 'accelerate diagnostics', 'accenture': 'accenture', 'acura': 'accuray', 'eatoncorporation': 'sparton corporation', 'aciworldwide': 'aci worldwide', 'acordatherapeutics': 'sarepta therapeutics', 'magnainternational': 'sigmatron international', 'activision': 'activision', 'acuitybrands': 'acuity brands', 'tap.immune': 'tapimmune inc', 'addushomecare': 'addus homecare', 'adobe': 'adobe', 'adt': 'adt', 'adtalemglobaleducation': 'adtalem global education', 'advanceautoparts': 'advance auto parts', 'aegioncorporation': 'weibo corporation', 'aegon': 'aegon', 'aemetis': 'aemetis', 'eaglepharmaceuticals': 'zynerba pharmaceuticals', 'aerohivenetworks': 'aerohive networks', 'aerojetrdyne': 'aerojet rocketdyne', 'aerovironmentinc': 'aerovironment', 'aethlonmedical': 'aethlon medical, inc.', 'aetna': 'aetna', 'affymetrix': 'affymetrix', 'agenusbio': 'agenus', 'catechnologies': 'ricebran technologies', 'scpharmaceuticals': 'tonix pharmaceuticals', 'agoda': 'agoda', 'agreerealtycorporation': 'terreno realty corporation', 'postapartmenthomes': 'aimco apartment homes', 'sabrecorporation': 'sabre corporation', 'dapproducts': 'air products', 'terexcorporation': 'waters corporation', 'akamaitechnologies': 'akamai technologies', 'aldeyratherapeutics': 'seres therapeutics', 'alarmdotcom': 'alarm.com', 'alaskaairlines': 'alaska airlines', 'l3communications': 'sba communications', 'emcore.corporation': 'vicor corporation', 'alcoa': 'alcon', 'avidtechnology': 'wily technology', 'alimerasciences': 'calithera biosciences', 'allegiant': 'allergan', 'allegionplc': 'allegion, plc', 'alleteinc': 'allete', 'alliancedata': 'alliance data', 'alliancehealthcareservices': 'alliance healthcare services', 'alliantenergy': 'alliant energy', 'alliedbuildingproducts': 'installed building products', 'allisontransmission': 'allison transmission', 'allmandbrothersinc': 'allmand bros., inc.', 'allmodern': 'allmodern.com', 'allot.communications': 'optenet / allot communications', 'allscripts': 'allscripts', 'allstate': 'allstate', 'ally': 'ally', 'alphaadvancedmaterials': 'alpha advanced materials', 'alphaassemblysolutions': 'alpha assembly solutions', 'alphatecspine': 'alphatec spine', 'alteryx': 'alteryx', 'altisource': 'nisource', 'ambarellacorp': 'ambarella inc', 'amctheatres': 'amc theatres', 'csginternational': 'swm international', 'amd': 'amd', 'amdocs': 'amdocs', 'amedicacorporation': 'psychemedics corporation', 'ameresco': 'ameresco', 'americanaddictioncenters': 'american addiction centers', 'americanairlines': 'american airlines', 'americanelectricpower': 'american electric power', 'americanexpressus': 'american express', 'americanhealthtech': 'american healthtech', 'americanintercontinentaluniversity': 'american intercontinental university', 'camdennational': 'camden national bank', 'americanriverbank': 'american river bank', 'americansavingsbank': 'american savings bank', 'weareamericanwater': 'american water', 'amerigas': 'amerigas', 'amerisourcebergen': 'amerisourcebergen', 'capricortherapeutics': 'proqr therapeutics nv', 'amkortechnology': 'amkor technology, inc.', 'amc': 'amsc', 'amvbbdo': 'amv bbdo', 'anadarkopetroleumcorporation': 'marathon petroleum corporation', 'analogdevicesinc': 'analog devices', 'angieslist': \"angie's list\", 'anixter': 'anixter', 'networksolutions': 'mastec network solutions', 'anntaylor': 'ann taylor', 'ansysinc': 'ansys, inc.', 'anteroresources': 'range resources', 'askanthem': 'anthem', 'anthemworldwide': 'anthem worldwide', 'aol': 'aol', 'avon': 'avon', 'aonbenfield': 'aon benfield', 'apachecorporation': 'danaher corporation', 'sanchezenergy': 'apache energy', 'apogeeenterprisesinc': 'apogee enterprises, inc.', 'appfolio': 'appfolio inc.', 'appiancorporation': 'seaspan corporation', 'applebees': \"applebee's\", 'appliancesmartus': 'appliancesmart, inc.', 'appliedmaterialsinc': 'applied materials', 'applied.optoelectronics.inc': 'applied optoelectronics, inc.', 'costargroup': 'enstar group', 'spargroupinc': 'spar group', 'aptiv': 'aptiv', 'myaquaamerica': 'aqua america', 'bradycorporation': 'radisys corporation', 'aramark': 'aramark', 'aramarkuniformservices': 'aramark uniform services', 'arborrealtytrust': 'arbor realty trust', 'arcdocumentsolutions': 'arc document solutions', 'farmbureaufinancialservices': 'farm bureau financial services', 'arcgroupworldwide': 'arc group worldwide, inc.', 'arcelormittalusa': 'arcelormittal', 'architectagency': 'architect digital agency', 'arconic': 'arconic', 'arubanetworks': 'arista networks', 'arkrestaurants': 'ark restaurants', 'oramed.pharmaceuticals': 'vanda pharmaceuticals', 'ashlandinc': 'ashland inc', 'asml': 'asml', 'aspenaerogels': 'aspen aerogels', 'myosrenstechnology': 'myos rens technology inc.', 'associatedbank': 'associated bank', 'astrazenecacareers': 'astrazeneca', 'astronicscorporation': 'trimas corporation', 'astronicstest': 'astronics aes', 'att': 'at&t', 'athenahealth': 'athenahealth', 'athersys': 'athersys', 'athleta': 'athleta', 'atlanticcapital': 'atlantic capital bank', 'altanticstewardshipbank630': 'atlantic stewardship bank', 'atlantiscasinoresortspa': 'atlantis casino resort spa', 'atlassian': 'atlassian', 'atmosenergy': 'atmos energy', 'atmosphereproximity': 'atmosphere proximity', 'materioncorp': 'atrion corp', 'attunity': 'attunity', 'audiocodes': 'audiocodes', 'oasmiapharmaceutical': 'oasmia pharmaceutical ab', 'authorize.net': 'authorize.net', 'autoanything': 'autoanything', 'autodesk': 'autodesk', 'autonation': 'autonation', 'autozone': 'autozone', 'avhomesinc': 'av homes, inc.', 'aviancaco': 'avianca', 'avid': 'avid', 'navistar': 'navistar inc', 'aviatnet': 'avnet', 'avxcorporation': 'vf corporation', 'plainscapital': 'gain capital', 'azzincorporated': 'la-z-boy incorporated', 'bachocomx': 'bachoco', 'badgermeter': 'badger meter', 'bahamabreeze': 'bahama breeze', 'bamko.us': 'bamko', 'bancofcalifornia': 'banc of california', 'bcooccidente': 'banco de occidente', 'bancogalicia': 'banco galicia', 'bancomacro': 'banco macro', 'bancosantander': 'banco santander mexico', 'bancolombia': 'bancolombia', 'bankofalbuquerque': 'bank of albuquerque', 'bankofarizona': 'bank of marin', 'bankofarkansas': 'bank of arkansas', 'bankofhawaii': 'bank of hawaii', 'bankofkansascity': 'bank of kansas city', 'bankofoklahoma': 'bank of oklahoma', 'bankoftexas': 'bank of texas', 'bankofthesierra': 'bank of the sierra', 'bankerslife': 'bankers life', 'esbbankfinancialcorp': 'bankfinancial', 'bankatunited': 'bankunited', 'mybankwell': 'bankwell', 'bannerbank': 'banner bank', 'barrick.gold.corporation': 'barrick gold corporation', 'basinc': 'basi', 'baxterinternationalinc': 'rpm international inc.', 'bazaarvoice': 'bazaarvoice', 'bbdobelgium': 'bbdo belgium', 'bbdogermany': 'bbdo group germany', 'bbdoukraine': 'bbdo ukraine', 'bbdowarszawa': 'bbdo warszawa', 'bbdoworldwide': 'bbdo worldwide', 'bbvacompass': 'bbva compass', 'bcbcommunitybank': 'bcb community bank', 'belomediagroup': 'beasley media group', 'beazerhomes': 'beazer homes', 'bedbathandbeyond': 'bed bath &amp; beyond', 'hesscorporation': 'the aes corporation', 'belmontsavingsbank': 'belmont savings bank', 'bemiscompany': 'bemis company, inc.', 'beneficialbank': 'beneficial bank', 'cyberopticscorporation': 'optometrics corporation', 'bestbuy': 'best buy', 'hp': 'hp', 'big5sportinggoods': 'big 5 sporting goods', 'bigfishgames': 'big fish games', 'corelaboratories': 'dolby laboratories', 'xbiotech': 'bio-techne', 'inogen': 'inogen', 'biolifesolutionsinc': 'biolife solutions, inc.', 'biotelemetryinc': 'biotelemetry, inc.', 'bizbuysell': 'bizbuysell', 'bizquest': 'bizquest', 'bjsrestaurants': \"bj's restaurants, inc.\", 'blackbox.ns': 'black box', 'blackbaud': 'blackbaud', 'blackberry': 'blackberry', 'blackline': 'blackline', 'blackrock': 'blackrock', 'bloomingdales': \"bloomingdale's\", 'blueapron': 'blue apron', 'bluebirdcorporation': 'fluor corporation', 'bluegreenvacations': 'bluegreen vacations', 'bluemercury': 'bluemercury', 'bmoharrisbank': 'bmo harris bank', 'bnbbank': 'cnb bank', 'bnymellon': 'bny mellon', 'boingo': 'boeing', 'bofifederalbank': 'bofi federal bank', 'boisecascadecompany': 'boise cascade company', 'voyafinancial': 'voya financial', 'bootbarn': 'boot barn', 'borderfree': 'borderfree', 'borgatahotelcasinoandspa': 'borgata hotel casino & spa', 'borgwarnerinc': 'borgwarner inc.', 'bostonscientific': 'boston scientific', 'box': 'box', 'boydgaming': 'boyd gaming', 'bradesco': 'bradesco', 'brandimagedesign': 'brandimage', 'brandywinerealtytrust': 'brandywine realty trust', 'breakertechnology': 'breaker technology', 'bridgepointeducation': 'bridgepoint medical, inc.', 'bridgfordfoods': 'bridgford foods', 'brighthorizons': 'bright horizons uk', 'brightcove': 'brightcove', 'franksinternational': 'haynes international', 'bristowgroup': 'bristow group', 'broadcom': 'radcom', 'broadvision.inc': 'broadvision', 'brooklinebank': 'brookline bank', 'brooksautomationinc': 'brooks automation', 'unitcorporation': 'unit corporation', 'square': 'square', 'bet': 'bt', 'listainternational': 'tal international', 'bunge': 'bunge', 'burlingtonstores': 'burlington stores, inc.', 'bushnell': 'bushnell', 'bykilian': 'by kilian', 'chrobinsoninc': 'c.h. robinson', 'cableone': 'cable one', 'cabotcorporation': 'wabtec corporation', 'stmicroelectronics.nv': 'stmicroelectronics', 'caesarsentertainmentcorp': 'caesars entertainment corporation', 'cafepress': 'cafepress inc.', 'caleresinc': 'caleres, inc.', 'callaway': 'callaway golf', 'calvinklein': 'calvin klein', 'caredx': 'cambrex', 'canadagoose': 'canada goose', 'cancergenetics': 'cancer genetics, inc.', 'canterburypark': 'canterbury park', 'capellauniversity': 'capella university', 'capitalone': 'capital one', 'capitalseniorliving': 'capital senior living', 'carverfederalsavingsbank': 'malvern federal savings bank', 'capstoneturbine': 'capstone turbine', 'cidaratherapeutics': 'united therapeutics', 'carbonblackinc': 'carbon black, inc.', 'cardlytics': 'cardtronics', 'caredotcom': 'care.com', 'careerbuilder': 'careerbuilder', 'carefusion': 'carefusion', 'cargurus': 'cargurus', 'carmax': 'carmax', 'carmichaellynch': 'carmichael lynch', 'aecomtechnologycorporation': 'cps technologies corporation', 'carriageservices': 'carriage services', 'carsdotcom': 'cars.com', 'cartus': 'cartus', 'cascademicrotech': 'cascade microtech', 'cashnetusa': 'cashnetusa', 'castlighthealth': 'castlight health', 'caterpillar': 'caterpillar inc.', 'cathaybank': 'cathay bank', 'catofashions': 'cato fashion', 'cbcsettlementfunding': 'cbc settlement funding, llc', 'belomedia': 'cbs ecomedia', 'cbsinteractive': 'cbs interactive', 'cdkglobal': 'cdk global', 'voceracommunications': 'vocera communications', 'cejkasearchinc': 'cejka search', 'celanese': 'celanese', 'celesticainc': 'celestica', 'cellectarbiosciences': 'selecta biosciences', 'cellectis': 'cellectis', 'mckessoncorporation': 'immersion corporation', 'cementospacasmayoperu': 'cementos pacasmayo saa', 'centenecorporation': 'internap corporation', 'centennialbanking': 'centennial bank', 'centerlinedrivers': 'centerline drivers', 'centerstatebank': 'centerstate bank', 'centralvalleycommunitybank': 'oak valley community bank', 'century21': 'century 21®', 'centurylink': 'centurylink', 'ceragonnetworks': 'ceragon networks', 'kerrcorporation': 'xcerra corporation', 'rfindustries': 'rf industries, inc.', 'qcbank': 'fcbank', 'charlesriverlabs': 'charles river laboratories', 'charlesschwab': 'charles schwab', 'charlottemotorspeedway': 'charlotte motor speedway', 'charterbank': 'charterbank', 'checkpointsoftware': 'check point software, ltd', 'chemicalbankmi': 'chemical bank', 'chevron': 'chevron', 'christopherandbanks': 'christopher and banks', 'chubbinsurance': 'cobiz insurance', 'chuys.restaurants': \"chuy's restaurants\", 'cibc': 'cibc', 'cigna': 'cigna', 'cincinnatibell': 'cincinnati bell', 'cinedigm': 'cinedigm', 'cinemark': 'cinemark', 'cintas': 'cintas', 'cisco': 'cisco', 'citi': 'citi', 'cititrends': 'citi trends', 'citizensbank': 'citizens bank', 'citizenscommunityfederal': 'citizens community federal', 'citizensfirstbank': 'citizens first bank', 'citrix': 'citrix', 'citynationalbank': 'nicolet national bank', 'citysearch': 'citysearch.com', 'civistabank': 'civista bank', 'fssolutionsgroup': 'class c solutions group', 'cleanenergyfuels': 'clean energy fuels', 'clearfieldinc': 'clearfield', 'clearone': 'clearone', 'clmbbdo': 'clm bbdo', 'cloudera': 'cloudera', 'cmegroup': 'cme group', 'emcinsurance': 'upc insurance', 'cnhindustrial': 'cnh industrial', 'lincolnfinancialgroup': 'lincoln financial group', 'coalesse': 'coalesse', 'coastwaycommunitybank': 'coastway community bank', 'cobizfinancial': 'cobiz financial inc.', 'coeurmining': 'coeur mining, inc.', 'gttcommunications': 'ott communications', 'gentexcorporation': 'neogen corporation', 'cognizant': 'cognizant', 'coherent': 'coherent inc.', 'coldwellbanker': 'coldwell banker', 'synchronyfinancial': 'synchrony financial', 'coloradostatebankandtrust': 'colorado state bank and trust', 'columbiastatebank': 'columbia bank', 'columbiasportswear': 'columbia sportswear company', 'commercebank': 'commerce bank', 'comfortsystemsusa': 'comfort systems usa', 'commscope': 'commscope', 'communitywestbank': 'community west bank', 'commvault': 'commvault', 'companhiasiderurgicanacional': 'companhia siderúrgica nacional', 'compugraphicsphotomasks': 'compugraphics photomasks', 'comscoreinc': 'comscore, inc.', 'conedison': 'con edison', 'conagrabrands': 'conagra brands', 'conagrafoods': 'conagra foods', 'concentrichx': 'concentrix', 'concur': 'concur', 'cdwcorporation': 'ncr corporation', 'pcconnection': 'connection', 'connectonebank': 'connectone bank', 'conocophillips': 'conocophillips', 'constantcontact': 'constant contact', 'constellium': 'constellium', 'monsterenergy': 'monster energy', 'contrapuntobbdoespana': 'contrapuntobbdo', 'control4fans': 'control4', 'convergysus': 'convergys', 'coopervisionusa': 'coopervision', 'copaairlines': 'copa airlines', 'copart': 'copart', 'coremarkinternational': 'tower international', 'corecivic': 'corecivic', 'corelogic': 'corelogic', 'coresite': 'coresite', 'corningincorporated': 'corning incorporated', 'protiviti': 'protiviti', 'cotyinc': 'coty inc.', 'counterpath': 'counterpath', 'coupasoftware': 'coupa software', 'covance': 'covance', 'covanta': 'covanta', 'covisint': 'covisint', 'mksinstruments': 'texas instruments', 'cpflenergia': 'cpfl energia', 'crackerbarrel': 'cracker barrel', 'crayinc': 'cray inc.', 'creditacceptancecorp': 'credit acceptance', 'cree': 'cree', 'gocriteo': 'criteo', 'crocs': 'crocs', 'crosscountryhealthcare': 'cross country healthcare', 'cryolifeinc': 'cryolife, inc.', 'csc': 'csc', 'ctgeurope': 'ctg europe', 'ctripcom': 'ctrip.com', 'cubesmart': 'cubesmart', 'cubiccorporation': 'cubic corporation', 'cuiinc': 'cui inc', 'cunard': 'cunard', 'customersbank': 'customers bank', 'cyberark': 'cyberark', 'cymerinc': 'cymer', 'cyrenweb': 'cyren', 'cyrusone': 'cyrusone', 'cytokineticsinc': 'cytokinetics', 'daegis': 'daegis', 'daktronics': 'dynatronics', 'danaincorporated': 'mannatech incorporated', 'gardein': 'darden', 'darlinghomes': 'darling homes', 'darwinbbdo': 'darwin bbdo', 'datamationcom': 'datamation.com', 'datawatchcorporation': 'datawatch corporation', 'davidstea': 'davidstea', 'davitakidneycare': 'davita kidney care', 'iongeophysical': 'ion geophysical', 'dbvtechnologies': 'dynavax technologies', 'cwindustrial': 'dct industrial', 'ddrcorp': 'ddr corp.', 'dealerrater': 'dealerrater', 'decbbdo': 'dec bbdo', 'delmontefreshproduce': 'del monte fresh produce n.a., inc', 'delphi': 'delphi', 'realnetworks': 'delve networks', 'demandware': 'demandware', 'dennys': \"denny's\", 'descartessystemsgroup': 'descartes systems group', 'detroitfreepress': 'detroit free press', 'deutschebank': 'deutsche bank', 'devmountain': 'devmountain', 'dteenergy': 'ep energy', 'dexcom': 'dexcom', 'diamondpro': 'diamond pro', 'dice': 'dice', 'dickssportinggoods': \"dick's sporting goods\", 'digi.international': 'garmin international', 'digitalallyinc': 'digital ally inc.', 'digitalrealty': 'digital realty', 'communitybankna': 'dime community bank', 'onegasincorporated': 'moen incorporated', 'diplomatrx': 'diplomat', 'directv': 'directv', 'sovernetcommunications': 'sequans communications', 'discoveryinctv': 'discoveryinc', 'dlvbbdo': 'dlv bbdo', 'dnbfirst1860': 'dnb first', 'dobleengineeringcompany': 'doble engineering company', 'docusign': 'docusign', 'dollargeneral': 'dollar general', 'dominos': 'dominion', 'mcdonalds': \"mcdonald's\", 'dormanproducts': 'dorman products', 'owenscorning': 'owens corning', 'dr.reddyslaboratoriesltd': \"dr. reddy's laboratories\", 'dropbox': 'dropbox', 'dspgroup2013': 'dsp group', 'dsw': 'dsw', 'duluthtradingcompany': 'duluth trading company', 'dunbradstreet': 'dun &amp; bradstreet', 'dunkindonuts': 'dunkin donuts', 'eqtcorporation': 'qumu corporation', 'dwellstudio': 'dwellstudio', 'dxctechnology': 'dxc technology', 'dxpenterprises': 'uds enterprise', 'etrade': 'e*trade', 'elfcosmetics': 'e.l.f. cosmetics', 'eaglehomemortgage': 'eagle home mortgage', 'eaglebrand': 'eaglebank', 'earthlink': 'earthlink', 'eastmanchemicalco': 'eastman chemical company', 'eatonvancecorp': 'eaton vance', 'ebix1': 'ebix', 'echeloncorp': 'echelon', 'echologistics': 'echologics', 'techdatacorporation': 'first data corporation', 'ecolab': 'ecolab', 'edgeverve': 'edgeverve', 'edgewaterfullscope': 'edgewater fullscope', 'edgewaterranzal': 'edgewater ranzal', 'wesco.international': 'lennox international', 'goefax': 'efax', 'ehealth': 'ehealth inc', 'elbitsystemsltd': 'elbit systems ltd', 'eldoradogoldcorp': 'eldorado gold corporation', 'electrosensors': 'electro-sensors, inc.', 'salliemae': 'sallie mae', 'elliottwilsonins': 'elliott wilson insurance', 'elmirasavingsbank': 'elmira savings bank', 'embraer': 'embraer', 'emcinsurancecompanies': 'emc insurance companies', 'emcareinc': 'emcare', 'emmiscommunications': 'vertis communications', 'empirestatebuilding': 'empire state building', 'enbridge': 'enbridge', 'encorewirecorp': 'encore wire corp', 'enerbank': 'enerbank usa', 'energyfocusinc': 'energy focus inc.', 'mcdermottinternational': 'mcdermott international inc.', 'engineeringcom': 'engineering.com', 'cebglobal': 'fcb global', 'eni': 'eni', 'enablemidstream': 'enlink midstream', 'enphaseenergy': 'enphase energy', 'entegrisinc': 'entegris', 'entergy': 'entergy', 'enterprisebanktrust': 'enterprise bank &amp; trust', 'enterpriseproducts': 'enterprise products', 'entravisioncommunications': 'entravision communications', 'vitashealthcare': 'vitas healthcare', 'envivio': 'envivio', 'enzo.life.sciences': 'enzo life sciences, inc.', 'epam.systems': 'epam systems', 'equifax': 'equifax', 'equinix': 'equinix', 'erarealestate': 'era real estate', 'ericsson': 'ericsson', 'erieinsurance': 'heritage insurance', 'eriebank': 'iberiabank', 'esabna': 'esab', 'ssctechnologies': 'transact® technologies', 'essexproperty': 'essex property trust', 'appliedgenetictechnologiescorporation': 'esterline technologies corporation', 'etslindgren': 'ets-lindgren', 'etsy': 'etsy', 'everiholdingsinc': 'everi holdings inc.', 'eversourceenergy': 'eversource energy', 'ptitechnologies': 'ttm technologies', 'evertecinc': 'evertec', 'everydayhealth': 'everyday health inc.', 'evidenthealth': 'evolent health', 'evinelive': 'evine live', 'evogene123': 'evogene', 'exelis': 'exelixis', 'expeditorsglobal': 'expeditors', 'explorelearninggizmos': 'explorelearning', 'exponentpr': 'exponent', 'express': 'express', 'extendedstayamerica': 'extended stay america', 'extremenetworks': 'extreme networks', 'peicorp': 'ezcorp', 'f5networksinc': 'f5 networks', 'facebook': 'facebook', 'factset': 'factset', 'farmermacnews': 'farmer mac', 'fastenalcompany': 'stepan company', 'federatedinvestors': 'federated investors', 'americannationalinsurancecompany': 'federated national insurance company', 'fedex': 'fedex', 'femsa': 'femsa', 'ferrellgas': 'ferrellgas', 'fidomobile': 'fido mobile', 'occsolutions': 'fido solutions', 'fifththirdbank': 'fifth third bank', 'financialengines': 'financial engines', 'northamericantitle': 'north american title', 'firstbusinessbank': 'first business', 'firstcitizensbank': 'first citizens bank', 'firstfinancialbank': 'first financial bank', 'firstfinancialbankna': 'first financial bank texas', 'firstharrisonbank': 'first harrison bank', 'independentbank': 'independent bank', 'firstinternetbank': 'first interstate bank', 'firstmajesticsilverbullion': 'first majestic silver corp.', 'firstmidwest': 'first midwest bank', 'republicbank': 'republic bank', 'frostbank': 'frost bank', 'rgsenergy': 'rgs energy', 'fios': 'fis', 'fiserv': 'fiserv', 'fisherplows': 'fisher snow plows', 'fitbit': 'fitbit', 'fivebelow': 'five below', 'fivestarbankny': 'five star bank', '5starseniorliving': 'five star senior living', 'fivestar': 'fivestreet', 'flagstarbank': 'flagstar bank', 'flooranddecor': 'floor & decor', 'florsheimshoesusa': 'florsheim shoes', 'kniferivercorporation': 'flowserve corporation', 'fmccorporation': 'immucell corporation', 'finisarcorporation': 'zions bancorporation', 'footlocker': 'foot locker', 'forcepointllc': 'forcepoint™', 'forescouttechnologies': 'forescout technologies inc.', 'formfactorinc': 'formfactor inc.', 'forrester': 'forrester', 'fortinet': 'fortive', 'fortressbiotech': 'fortress biotech', 'franklincovey': 'franklincovey', 'fredsinc': \"fred's inc.\", 'freshpet': 'freshpet', 'friendscout24': 'friendscout24', 'fronteousa': 'fronteo usa', 'fticonsultinginc': 'fti consulting', 'fulgentgenetics': 'fulgent genetics', 'gafisa': 'gafisa', 'gaiam': 'gaiam', 'gamehouse': 'gamehouse', 'gamestop': 'gamestop', 'mantechinternationalcorporation': 'voxx international corporation', 'gartner': 'gartner', 'ge': 'ge', 'neogencorp': 'gencorp', 'generacpowersystems': 'generac power systems', 'generaldynamicsit': 'general dynamics', 'generalmotors': 'general motors', 'genoceabio': 'genocea', 'genomichealth': 'genomic health', 'gentherm': 'gentherm', 'gerdau': 'gerdau', 'getbridge': 'trubridge', 'giftsdotcom': 'gifts.com', 'gileadsciences': 'gilead sciences', 'glacierparkinc': 'glacier park, inc.', 'myoscorporation': 'omeros corporation', 'globalaviationservices': 'global aviation services, llc', 'globalpaymentsinc': 'global payments inc.', 'globalselfstoragecorporate': 'global self storage', 'glu.mobile': 'glu mobile', 'gnc': 'gnc', 'godaddy': 'godaddy', 'gogo': 'gogo', 'goldfieldsltd': 'gold fields', 'goldcorp': 'goldcorp', 'google': 'google', 'gopro': 'gopro', 'grainger': 'grainger', 'graniteconstruction': 'granite construction', 'wtaptelevision': 'gray television', 'greatamericaninsurancegroup': 'great american insurance group', 'greatsouthernbank': 'great western bank', 'greenbankna': 'green bank', 'greenplains': 'green plains inc.', 'greifinc': 'greif, inc.', 'groupon': 'groupon', 'grubhub': 'grubhub', 'gsdm': 'gsd&m', 'gsk': 'gsk', 'guidewiresoftware': 'guidewire software', 'hrblock': 'h&r block', 'hackbrightacademy': 'hackbright academy', 'haemoneticscorp': 'haemonetics', 'rangeresourcescorporation': 'halcon resources corporation', 'hamiltonbank': 'hamilton bank', 'harmonfacevalues': 'harmon face values', 'harmonicinc': 'harmonic', 'harscocorporation': 'masco corporation', 'harristeeter': 'harris teeter', 'hartehanks': 'harte hanks', 'harvardapparatus': 'harvard apparatus', 'hawaiianairlines': 'hawaiian airlines', 'hawaiianelectric': 'hawaiian electric company', 'hcareers': 'hcareers', 'hdsupplyfm': 'hd supply', 'hdfc.bank': 'hdfc bank', 'healthecareers': 'health ecareers', 'healthequitypage': 'healthequity', 'heatbiologics': 'heat biologics', 'heelys': 'heelys', 'hemocueab': 'hemocue ab', 'henryschein': 'henry schein', 'heraldandreview': 'herald & review', 'herbalife': 'herbalife', 'hercrentalsinc': 'herc rentals', 'hermanmiller': 'herman miller', 'hertz': 'hertz', 'hewlettpackardenterprise': 'hewlett packard enterprise', 'hibbettsports': 'hibbett sports', 'hillcrestbank': 'hillcrest bank.', 'hilton': 'hilton', 'hiltongrandvacations': 'hilton grand vacations', 'hiltonworldwide': 'hilton worldwide', 'imax': 'imax', 'hollister': 'hollister co.', 'homeaway': 'homeaway.com', 'homedirectmortgage': 'homedirect mortgage℠', 'homestreetbank': 'homestreet bank', 'hometrustbanking': 'hometrust bank', 'honeywellaero': 'honeywell uop', 'honeywellprocesssolutions': 'honeywell process solutions', 'myhorizonbank': 'horizon bank', 'hormelfoodscorp': 'hormel foods', 'hortonworks': 'hortonworks', 'hostgator': 'hostgator.com', 'howardbank1': 'howard bank', 'hsbcuk': 'hsbc', 'hubgroupinc': 'hub group', 'hubspot': 'hubspot', 'hubzu': 'hubzu', 'hudsonpacificproperties': 'hudson pacific properties', 'humana': 'humana', 'huntingtoningallsindustries': 'huntington ingalls industries, inc.', 'huntsmancorp': 'huntsman', 'hurcocompanies': 'rowan companies', 'huronconsulting': 'wipro consulting', 'lpbuildingproducts': 'huttig building products', 'ibm': 'ibm', 'icfinternational': 'icf international', 'icicibank': 'icici bank', 'icumedical': 'icu medical', 'idwarehouse': 'id warehouse', 'idahopower': 'idaho power', 'identiv': 'identiv', 'idexx': 'idexx', 'idexxlaboratories': 'idexx laboratories', 'ihop': 'ihop', 'ihsmarkit': 'ihs markit', 'ikonicscorporation': 'ikonics corporation', 'illinoisbankandtrust': 'illinois bank &amp; trust', 'illuminainc': 'illumina', 'imperva': 'imperva', 'immaculatebaking': 'immaculate baking company', 'impinj': 'impinj', 'incontact': 'incontact', 'infinera': 'infinera', 'informationservicesgroup': 'isg (information services group)', 'infospace': 'infospace', 'infosys': 'infosys bpo', 'ing': 'ing', 'ingersollrandplc': 'ingersoll rand', 'inglesmarkets': 'ingles markets, inc.', 'innerworkings': 'innerworkings', 'innodata.inc': 'innodata inc.', 'inphicorporation': 'inphi corporation', 'inpixon': 'inpixon', 'abinsights': 'insight', 'insperity': 'insperity', 'intel': 'mitel', 'interactivebrokers': 'interactive brokers', 'intercontinentalexchange': 'intercontinental exchange', 'interface': 'interface', 'internap': 'internap', 'internationalflavorsandfragrances': 'international flavors &amp; fragrances', 'internationalpaper': 'international paper', 'interone.de': 'interone', 'intersectent': 'intersect ent, inc', 'interxion': 'interxion', 'intrepidpotash': 'intrepid potash', 'visteoncorporation': 'vse corporation', 'intuit': 'intuit', 'invacarecorporation': 'lifevantage corporation', 'investools': 'investools', 'investorsbank': 'investors bank', 'invitae': 'invitae', 'invitationhomesweb': 'invitation homes', 'ipass': 'ipass', 'professionaldiversitynetwork': 'professional diversity network', 'irhythmtechnologies': 'lightpath technologies', 'iridex': 'iridex', 'myiridium': 'iridium', 'irobot': 'irobot', 'ironmountain': 'iron mountain', 'isharesetfs': 'ishares', 'itbusinessedge': 'it business edge', 'intrexon': 'itron', 'itroninc': 'itron, inc.', 'ittinc': 'itt inc.', 'ituranusa': 'ituran usa', 'j2global': 'j2 global', 'jabil': 'jabil', 'jackinthebox': 'jack in the box', 'jackmartinandassociates': 'jack martin and associates', 'jacksonsun': 'jackson', 'jaguaranimalhealth': 'jaguar animal health', 'jaguarhealth': 'jaguar health', 'jakkspacifictoys': 'jakks pacific', 'jambajuice': 'jamba juice', 'ctcaviation': 'jet aviation', 'jll': 'jll', 'jomalonelondon': 'jo malone london', 'johndeereusca': 'john deere', 'johnsoncontrols': 'johnson controls', 'journeys': 'journeys', 'junipernetworks': 'juniper networks', 'justenergyus': 'just energy solar', 'khovnanianhomes': 'k. hovnanian® homes', 'kadant': 'kadant', 'kaiseraluminum': 'kaiser aluminum', 'kaplan': 'kaplan', 'karyopharmtherapeutics': 'karyopharm therapeutics inc.', 'kayak': 'kayak', 'kbhome': 'kb home', 'kearnybank': 'kearny bank', 'kellyservices': 'kelly services', 'kennametalinc': 'kennametal', 'ketchum': 'ketchum', 'keyenergyservices': 'key energy services', 'keytronicems': 'keytronicems', 'keywcorporation': 'keyw corporation', 'kfc': 'kfc', 'kfor4': 'kfor', 'kidsfootlocker': 'kids foot locker', 'kimberlyclarkcorp': 'kimberly-clark', 'kindermorganinc': 'kinder morgan, inc.', 'king': 'king', 'kirklands': \"kirkland's\", 'kitchme': 'kitchme', 'kiterealtygroup': 'kite realty group', 'klatencor': 'kla-tencor', 'knollinc': 'knoll', 'kohls': \"kohl's\", 'kornferry': 'korn ferry', 'smenergy': 'kosmos energy', 'kroger': 'kroger', 'kvhindustries': 'kvh industries, inc.', 'lazboy': 'la-z-boy', 'lakecitybank': 'lake city bank', 'lakelandbank': 'lakeland bank', 'lamaradvertising': 'lamar advertising company', 'landmarknationalbank': 'landmark national bank', 'landsend': \"lands'\\u200b end\", 'lanebryant': 'lane bryant', 'gannettcompany': 'lannett company', 'plantronics': 'plantronics', 'lvmotorspeedway': 'las vegas motor speedway', 'lasvegassands': 'las vegas sands corp.', 'lawsonproducts': 'lawson products', 'lcnbnationalbank': 'lcnb national bank', 'teamenterprises': 'lee enterprises', 'leggmason': 'legg mason', 'lehighcustomfit': 'lehigh customfit', 'lehighoutfitters': 'lehigh outfitters', 'leicabiosystems': 'leica biosystems', 'leicamicrosystems': 'leica microsystems', 'leidosinc': 'leidos', 'lendingclubteam': 'lendingclub', 'lendingtree': 'lendingtree', 'lennar': 'lennar', 'lgihomes': 'lgi homes', 'lgstxservices': 'lgstx services, inc.', 'lhcgroup': 'lhc group', 'libertytax': 'liberty tax', 'lifestorage': 'life storage', 'lifelock': 'lifelock', 'lifetimebrands': 'lifetime brands', 'lightinthebox': 'lightinthebox', 'lillypulitzer': 'lilly pulitzer', 'hachcompany': 'limbach company', 'limelightnetworks': 'limelight networks', 'lincolnelectric': 'lincoln electric', 'lincolnjournalstar': 'lincoln journal star', 'lincolntech': 'lincoln tech', 'linkedin': 'linkedin', 'linxprintingtechnologies': 'linx printing technologies', 'lippertcomponents': 'lippert components, inc.', 'listhub': 'listhub', 'lithiamotors': 'lithia motors, inc.', 'littelfuse': 'littelfuse', 'livanovaplc': 'livanova', 'livenation': 'live nation', 'lockheedmartin': 'lockheed martin', 'loewshotels': 'loews hotels & co', 'logilityinc': 'logility', 'logisticare': 'logisticare', 'logitech': 'logitech', 'logmein': 'logmein', 'longhornsteakhouse': 'longhorn steakhouse', 'loopnet': 'loopnet', 'loyaltyoneco': 'loyaltyone', 'lplfinancialllc': 'lpl financial', 'lsiindustries': 'wsi industries', 'lululemon': 'lululemon', 'lumberliquidators': 'lumber liquidators', 'luxoft': 'luxoft', 'lyondellbasell': 'lyondellbasell', 'mihomesinc': 'm/i homes, inc.', 'macatawabank': 'macatawa bank', 'macdermidoffshore': 'macdermid offshore solutions', 'macys': \"macy's\", 'madisongasandelectric': 'madison gas and electric', 'magicjackapp': 'magicjack', 'fairchildsemiconductor': 'magnachip semiconductor', 'majescoentertainment': 'majesco entertainment', 'makemytrip': 'makemytrip.com', 'makerbot': 'makerbot®', 'malibuboats': 'malibu boats', 'marinsoftware': 'marin software', 'manchesterunited': 'manchester united', 'manhattanassociates': 'manhattan associates', 'manitexinternational': 'standex international', 'manpowerus': 'manpowergroup', 'match': 'mantech', 'marchex': 'marchex', 'marcustheatres': 'marcus theatres', 'marinemaxohio': 'marinemax', 'marvel': 'markel', 'marketwatch': 'marketwatch', 'markit': 'markit', 'marriottinternational': 'mercer international', 'marvellsemiconductor': 'marvell semiconductor', 'asimo': 'masimo', 'mastercardus': 'mastercard', 'materialisenv': 'materialise', 'matrixmedicalnetwork': 'matrix medical network', 'matrixservicecompany': 'matrix service company', 'meredithcorporation': 'veritiv corporation', 'maximintegrated': 'maxim integrated', 'mazorrobotics': 'mazor robotics', 'mbfinancialbank': 'mb financial bank', 'mccrometer': 'mccrometer, inc.', 'mechel.ru': 'mechel', 'medcotool': 'medco tool', 'medicaldoctorassociates': 'medical doctor associates', 'medicalstaffingnetwork': 'medical staffing network', 'medidatasolutions': 'medidata solutions', 'medifast': 'medifast, inc', 'medpaceinc': 'medpace', 'mdstf': 'medstaff', 'menswearhouse': \"men's wearhouse\", 'mercadolibre': 'mercadolibre.com', 'mercbank': 'merck', 'mercuryinsurance': 'mercury insurance', 'mercurycomputersystems': 'mercury systems', 'meritmedicalsystems': 'varian medical systems', 'meritagehomes': 'meritage homes', 'meritor': 'meritor', 'mesalaboratories': 'mesa laboratories, inc.', 'mutualbank': 'mutualbank', 'metlife': 'metlife', 'metropcs': 'metropcs', 'mgicmi': 'mgic', 'mhelpdesk': 'mhelpdesk', 'michaelfoods': 'michael foods', 'michaelkors': 'michael kors', 'microbotmedical': 'microbot medical', 'microchiptechnology': 'micron technology', 'microsoft': 'microsoft', 'microstrategy': 'microstrategy', 'microvisioninc': 'microvision inc.', 'midpennbank': 'mid penn bank', 'midatechpharma': 'midatech pharma plc', 'middlesexwater': 'middlesex water company', 'midsouthbank': 'midsouth bank', 'midwestone': 'midwestone bank', 'milacron': 'milacron', 'millennialmedia': 'millennial media', 'myersindustries': 'myers industries', 'mindcti': 'mind cti', 'minnesotabankandtrust': 'minnesota bank &amp; trust', 'miteksystems': 'mitek systems', 'mixtelematics': 'mix telematics', 'mobil1': 'mobil', 'mobilemini': 'mobile mini inc', 'mobileiron': 'mobileiron', 'roadrunnertransportation': 'roadrunner transportation systems', 'moleculardevices': 'molecular devices', 'molinahealth': 'molina healthcare', 'mondelezinternational': 'mondelēz international', 'mongodb': 'mongodb', 'monromufflerbrake': 'monro muffler brake', 'monroebanktrust': 'monroe bank & trust', 'morningstarinc': 'morningstar', 'motorcarpartsofamerica': 'motorcar parts of america', 'motorolasolutions': 'motorola solutions', 'mountainhardwear': 'mountain hardwear', 'rmhcglobal': 'mrc global', 'mscindustrialsupplycareers': 'msc industrial supply co.', 'mtssystemscorp': 'mts systems corporation', 'murphyusa': 'murphy usa', 'muscatinejournal': 'muscatine journal', 'mycase': 'mycase', 'mypublisher': 'mypublisher', 'myriadgenetics': 'myriad genetics', 'nanostringtechnologies': 'nanostring technologies, inc.', 'nasdaq': 'nasdaq', 'nathansfamous': \"nathan's famous, inc.\", 'nationalamericanu': 'national american university', 'nationalcinemediancm': 'national cinemedia (ncm)', 'nationalgrid': 'national grid', 'nationalinstruments': 'national instruments', 'nationallloydsinsurance': 'national lloyds insurance company', 'nationaloilwellvarco': 'national oilwell varco', 'nationstarmortgage': 'nationstar mortgage', 'naturalalternativesinternationalinc': 'natural alternatives international, inc.', 'natuzzi': 'natuzzi', 'nautilus': 'nautilus inc.', 'navigant': 'navigant', 'nelnet': 'nelnet', 'neptunewellnesssolutions': 'neptune wellness solutions', 'netelement': 'net element', 'netapp': 'netapp', 'netflix': 'netflix', 'netgear': 'netgear', 'netscoutinc': 'netscout', 'neuralstem': 'verastem', 'nevadastatebank': 'nevada state bank', 'newmexicobankandtrust': 'new mexico bank &amp; trust', 'newyorkandcompany': 'new york &amp; company', 'newellrubbermaid': 'newall rubbermaid', 'newellbrands': 'newell brands', 'newmontminingcorporation': 'newmont mining corporation', 'newscorp': 'news corp', 'expedia': 'nexperia', 'minnesotaenergyresources': 'nextera energy resources', 'niceincontact': 'nice incontact', 'nielsen': 'nielsen', 'neogen.latinoamerica': 'nielsen latinoamérica', 'nike': 'nike', 'nokia': 'nokia', 'noodlesandcompany': 'noodles &amp; company', 'norcraftcompanies': 'norcraft companies', 'nordsonadhesivesystems': 'nordson adhesive dispensing systems', 'nordstrom': 'nordstrom', 'north.american.construction.group': 'north american construction group', 'mynortheastbank': 'northwest bank', 'northrimbank': 'northrim bank', 'northropgrumman': 'northrop grumman', 'northwesternenergy': 'southwestern energy', 'norwegiancruiseline': 'norwegian cruise line', 'novartis': 'novartis', 'novonordisk': 'novo nordisk', 'novusbiologicals': 'novus biologicals llc', 'bmocommunity': 'nowcommunity', 'nrgsystems': 'nrg systems', 'nteloswireless': 'ntelos wireless', 'nurturhealth': 'nurtur health, inc.', 'nustarenergy1': 'nustar energy l.p.', 'nutanix': 'nutanix', 'nutrienltd': 'nutrien', 'nutrisystem': 'nutrisystem, inc.', 'nuvasive': 'nuvasive', 'univestcorporation': 'nve corporation', 'nvidia': 'nvidia', 'onsemiconductor': 'on semiconductor', 'nyse': 'nyse', 'oreillyautoparts': \"o'reilly auto parts\", 'oceaneering': 'oceaneering', 'oceanfirstbank': 'oceanfirst bank', 'officedepot': 'office depot', 'ohiovalleybank': 'ohio valley bank', 'olddominionfreightline': 'old dominion freight line', 'oldnationalbancorp': 'old national bank', 'oldnavy': 'old navy', 'oldrepublictitle': 'old republic title', 'oldcastle': 'oldcastle', 'olivegarden': 'olive garden', 'oliverwyman': 'oliver wyman', 'olliesbargainoutlet': \"ollie's bargain outlet, inc.\", 'olympicsteel': 'olympic steel', 'omnicellinc': 'omnicell', 'oncolytics.biotech.inc': 'oncolytics biotech inc.', 'oneokinc': 'oneok', 'oomainc': 'ooma, inc.', 'opentable': 'opentable', 'opentext': 'opentext', 'opgeninc': 'opgen, inc.', 'opower': 'opower', 'opportunitybankofmontana': 'opportunity bank of montana', 'optimum': 'optimumbank', 'oracle': 'oracle', 'orange': 'orange', 'puretechnologies': 'xplore technologies', 'orbcomm': 'orbcomm', 'orbotechltd': 'orbotech', 'orchardsupplyhardware': 'orchard supply hardware', 'orientalbank': 'oriental', 'oritanibank': 'oritani bank', 'orrstownbank': 'orrstown bank', 'oshkoshcorporation': 'oshkosh corporation', 'otelcoinc': 'otelco', 'outfrontmediausa': 'outfront media', 'ovascience': 'ovascience', 'overstock': 'overstock.com', 'owensandminor': 'owens & minor', 'ownersdirect': 'owners direct', 'oxiteno': 'oxiteno', 'psacard': 'paccar', 'pacificgasandelectric': 'pacific gas and electric company', 'paloaltonetworks': 'palo alto networks', 'pamtransport': 'pam transport', 'panamericansilver': 'pan american silver corp.', 'pandora': 'pandora', 'parkerhannifin': 'parker hannifin', 'partycity': 'paylocity', 'paychex': 'paychex', 'paycom': 'paycom', 'payonline': 'payonline', 'paypal': 'paypal', 'pcm': 'pcm', 'pears': 'pearson', 'pegasuslegalfunding': 'pegasus legal funding, llc', 'pegasystems': 'pegasystems', 'petdairy': 'pentair', 'peoplesunited': \"people's united bank\", 'peopleready': 'peopleready', 'peoplesbanknc': 'peoples bank', 'pepsico': 'pepsico', 'perficient': 'perficient', 'perion.network': 'perion network', 'perkinelmer': 'perkinelmer, inc.', 'perrigocompanyplc': 'perrigo company plc', 'petrovalveinc': 'petro-valve, inc.', 'petrobras': 'petrobras', 'pfizer': 'pfizer', 'pfsweb': 'pfsweb', 'phenomenex': 'phenomenex', 'phiinc': 'phi inc', 'philips': 'philips', 'phillips66co': 'phillips 66', 'pilgrimsmx': \"pilgrim's\", 'pioneernaturalresources': 'pioneer natural resources company', 'pitneybowes': 'pitney bowes', 'pivotalsoftware': 'pivotal software, inc.', 'pizzahut': 'pizza hut', 'pizzainn': 'pizza inn', 'plainscapitalbank': 'plainscapital bank', 'planetechs': 'planetechs llc', 'plexuscorp': 'plexus corp.', 'plugpowerinc': 'plug power', 'plumorganics': 'plum organics', 'pluralsight': 'pluralsight', 'pollotropical': 'pollo tropical', 'poolcorp': 'poolcorp', 'porternovellinz': 'porter novelli', 'portlandgeneralelectric': 'portland general electric', 'potbellysandwichshop': 'potbelly sandwich works', 'powerintegrations': 'power integrations', 'ppgindustries': 'ppg industries', 'prhoffmanmachineproducts': 'pr hoffman machine products', 'prahealthsciences': 'pra health sciences', 'praxairinc': 'praxair, inc', 'precisiondrilling': 'precision drilling', 'preformedlineproducts': 'preformed line products', 'premiervalleybank': 'premier valley bank', 'priceline': 'priceline.com', 'pricesmartcr': 'pricesmart', 'primerica': 'primerica', 'primowatercorp': 'primo water corporation', 'primorisservicescorporation': 'primoris services corporation', 'princesscruises': 'princess cruises', 'principalfinancial': 'prudential financial', 'prinsautogassystemen': 'prins autogassystemen', 'proctergamble': 'procter &amp; gamble', 'profireenergy': 'profire energy', 'progresssw': 'progress', 'proofpoint': 'proofpoint', 'prosperitybankusa': 'prosperity bank', 'proteinsimple': 'proteinsimple', 'protolabs': 'protolabs', 'providentbank': 'the provident bank', 'proximityworldwide': 'proximity worldwide', 'prudential': 'prudential uk', 'pseg': 'pseg', 'psncenergy': 'psnc energy', 'publicstorage': 'public storage', 'pultegroup': 'pultegroup', 'purestorage': 'pure storage', 'putnambankct': 'putnam bank', 'pvh.corp': 'pvh corp.', 'q2ebanking': 'q2ebanking', 'qiagen': 'qiagen', 'qtsdatacenters': 'qts data centers', 'quadgraphics': 'quad/graphics', 'quadtech': 'quadtech', 'qualcomm': 'qualcomm', 'qualys': 'qualys', 'quanterix': 'quanterix', 'quantumcorp': 'quantum', 'questdiagnostics': 'quest diagnostics', 'questintegrity': 'quest integrity', 'questresourcemanagementgroup': 'quest resource management group', 'quicklogic': 'quicklogic', 'windstreamenterprise': 'windstream enterprise', 'rndsystems': 'r&d systems', 'radnetinc': 'radnet', 'radware': 'radware', 'ralphlauren': 'ralph lauren', 'rambusinc': 'rambus', 'gorapid7': 'rapid7', 'zurnindustries': 'zurn industries, llc', 'raymondjames': 'raymond james', 'raytheon': 'raytheon', 'rbc': 'rbc', 'remax': 're/max', 'redrobin': 'red robin', 'redfin': 'redfin', 'redhandedagency': 'redhanded agency', 'regalbeloitcorp': 'regal beloit corporation', 'regencycenters': 'regency centers', 'regionsbank': 'zions bank', 'remodelista': 'remodelista', 'renasantbank': 'renasant bank', 'renesola': 'renesola ltd.', 'renewableenergygroup': 'renewable energy group, inc.', 'rentacenter': 'rent-a-center', 'republicservices': 'republic services', 'teamresellerclub': 'resellerclub', 'resmed': 'resmed', 'revlon': 'revlon', 'rignet': 'signet', 'rigzonenews': 'rigzone', 'ringcentral': 'ringcentral', 'riotcreativeimaging': 'riot creative imaging', 'ritchiebros': 'ritchie bros.', 'riteaid': 'rite aid', 'tworivercommunitybank': 'two river community bank', 'michiganinsurancecompany': 'rli insurance company', 'roberthalf': 'robert half', 'rogers': 'roberts', 'rocawear': 'rocawear', 'rocklandtrust': 'rockland trust', 'rokautomation': 'rockwell automation', 'rockwellcollins': 'rockwell collins', 'rosettastone': 'rosetta stone', 'royalbankofscotland': 'royal bank of scotland', 'rubiconproject': 'rubicon project', 'ufptechnologies': 'ufp technologies, inc.', 'insightenterprisesinc': 'rush enterprises, inc', 'ruthschrissteakhousenational': \"ruth's chris steak house\", 'ryanair': 'ryanair', 'rydersysteminc': 'ryder system, inc.', 'sandpglobal': 's&p global', 'spglobalmarketintelligence': 's&p global market intelligence', 'saexploration': 'saexploration', 'safeguardscientifics': 'safeguard scientifics', 'safetyinsurance': 'safety insurance', 'safetysignsservice': 'safety signs service', 'sailpoint': 'sailpoint', 'salemmediagroup': 'salem media group', 'salesforce': 'salesforce', 'sallybeauty': 'sally beauty', 'sanchobbdo': 'sancho bbdo', 'sandersonfarmschicken': 'sanderson farms chicken', 'sandyspringbank': 'sandy spring bank', 'sanminacorp': 'sanmina', 'sanofigenzyme': 'sanofi genzyme', 'santanderbrasil': 'santander brasil', 'sap': 'sap', 'sapconcur': 'sap concur', 'saucony': 'saucony', 'sbonebank': 'sb one bank', 'smtccorporation': 'smtc corporation', 'scansourceinc': 'scansource', 'scholastic': 'scholastic', 'sonabank': 'sonabank', 'seacoastbank': 'seacoast bank', 'seamless': 'seamless.com', 'seaspine': 'seaspine inc', 'seattlesbestcoffee': \"seattle's best coffee\", 'selectmedical': 'select medical', 'semileds': 'semileds', 'spectraenergy': 'spectra energy', 'sendgrid': 'sendgrid', 'sensoryeffects': 'sensoryeffects', 'servicemaster': 'servicemaster', 'servicenow': 'servicenow', 'severnbank': 'severn bank', 'shakeshack': 'shake shack', 'sharpscompliance': 'sharps compliance, inc.', 'sharpspringinc': 'sharpspring', 'wirzcommunications': 'windstream communications', 'syntel': 'syntel', 'shilohindustries': 'shiloh industries', 'shipstation': 'shipstation', 'shoecarnival': 'shoe carnival, inc.', 'shopify': 'shopify', 'shoreunitedbank': 'shore united bank', 'shutterfly': 'shutterfly, inc.', 'shutterstock': 'shutterstock', 'sibanyestillwater': 'sibanye-stillwater', 'sientrainc': 'sientra, inc.', 'silgancontainersllc': 'silgan containers', 'siliconlabs': 'silicon labs', 'simmonsbank': 'simmons bank', 'simonandschuster': 'simon and schuster', 'simulationsplus': 'simulations plus, inc.', 'siriusxm': 'siriusxm', 'sixflags': 'six flags', 'skechers': 'skechers', 'skyhook': 'skyhook', 'skype': 'skype', 'skyscanner': 'skyscanner', 'smartfinal': 'smart & final', 'smartertravel': 'smartertravel', 'smartsheet': 'smartsheet', 'smartwool': 'smartwool', 'smithnephewplc': 'smith & nephew', 'smithwessoncorp': 'smith & wesson', 'snapontools': 'snap-on tools', 'socialnewsdesk': 'socialnewsdesk', 'socoreenergy': 'socore energy', 'solarcity': 'solarcity', 'slate': 'solaytec', 'sonicautomotive': 'sonic automotive', 'sonicdrivein': 'sonic drive-in', 'sony': 'sony', 'sothebys': \"sotheby's\", 'sotherlyhotels': 'sotherly hotels inc.', 'soundcommunitybank': 'sound community bank', 'southstatebank': 'southside bank', 'southern.bank': 'southern bank', 'southerntide': 'southern tide', 'southwestair': 'southwest airlines', 'spacelabshealthcare': 'spacelabs healthcare', 'sparkenergy': 'spark energy', 'spartanmotorsinc': 'spartan motors, inc.', 'splunk': 'splunk', 'sportsmanswarehouse05': \"sportsman's warehouse\", 'spotify': 'spotify', 'springmobile': 'spring mobile', 'sprint': 'sprint', 'sproutsfarmersmarket': 'sprouts farmers market', 'spscommerceinc': 'sps commerce', 'square1bank': 'square 1 bank', 'stagestores': 'stage stores', 'stamps.com': 'stamps.com', 'standardcasualtycompany': 'standard casualty company', 'stanleyhealthcare': 'stanley healthcare', 'starbucks': 'starbucks', 'starretttools': 'starrett', 'thestreet': 'thestreet', 'stayzau': 'stayz', 'steelcase': 'steelcase', 'steinmart': 'stein mart', 'stevemaddenshoes': 'steve madden', 'stewarttitleco': 'stewart title', 'stifelfinancial': 'stifel financial corp.', 'stitchfix': 'stitch fix', 'storecapitalreit': 'store capital', 'stratasys': 'stratasys', 'strayeruniversity': 'strayer university', 'streamlinehealthsolutions': 'streamline health', 'suburbanpropane': 'suburban propane', 'summerinfant': 'summer infant, inc.', 'suncorenergy': 'suncor energy', 'gosunoco': 'sunoco', 'synnexcorporation': 'sunpower corporation', 'sunrun': 'sunrun', 'suntrust': 'suntrust', 'supercuts': 'supercuts', 'support.com': 'support.com', 'sussexbank': 'sussex bank', 'twitch': 'switch', 'symantec': 'symantec', 'synacorinc': 'synacor', 'synaptics': 'synaptics', 'synopsys': 'synopsys inc', 'troweprice': 't. rowe price', 'toplasticsinc': 't.o. plastics', 'tacobell': 'taco bell', 'tacocabana': 'taco cabana', 'tandemdiabetes': 'tandem diabetes care', 'tandyleather': 'tandy leather', 'tangeroutlets': 'tanger outlets', 'mojomarketplace': 'taobao marketplace', 'target': 'target', 'tatamotorsgroup': 'tata motors', 'taxact': 'taxact', 'taylordevices': 'taylor devices', 'taylormorrison': 'taylor morrison', 'tbwaworldwide': 'tbwa\\\\worldwide', 'tdameritrade': 'td ameritrade', 'tdameritradeinstitutional': 'td ameritrade institutional', 'teconnectivity': 'te connectivity', 'technipfmc': 'technipfmc', 'techtargetinc': 'techtarget', 'tegnainc': 'tegna', 'teladoc': 'teladoc', 'flexcorporate': 'teleflex incorporated', 'telekomunikasiindonesia': 'telekomunikasi indonesia', 'telenav': 'telenav', 'telephonicscorphq': 'telephonics', 'telestackltd': 'telestack limited', 'teletech': 'teletech', 'teliapavlabbdo': 'telia & pavla bbdo', 'telsmithinc': 'telsmith', 'mergehealthcare': 'tenet healthcare', 'teradata': 'teradata', 'teradyneinc': 'teradyne', 'ternium': 'ternium', 'terrapass': 'terrapass', 'tesla': 'tesla', 'teslamotors': 'tesla motors', 'tetratech': 'tetra tech', 'texasroadhouse': 'texas roadhouse', 'textron.inc': 'textron', 'texturacorporation': 'textura corporation', 'theandersonsinc': 'the andersons, inc.', 'theaxisagency': 'the axis agency', 'bankofgreenecounty': 'the bank of greene county', 'thecapitalgrille': 'the capital grille', 'thecheesecakefactory': 'the cheesecake factory', 'childrensplace': \"the children's place\", 'thecocacolaco': 'the coca-cola company', 'containerstore': 'the container store', 'thedailytelegram': 'the daily telegram', 'dallasmorningnews': 'the dallas morning news', 'thedealhq': 'the deal', 'desmoinesregister': 'the des moines register', 'thedowchemicalcompany': 'the dow chemical company', 'fauquierbank': 'the fauquier bank', 'thehartford': 'the hartford', 'homedepot': 'the home depot', 'howardhughescorporation': 'the howard hughes corporation', 'manitowoccompany': 'the manitowoc company', 'themedicinescompany': 'the medicines company', 'mosaiccompany': 'the mosaic company', 'thenewhomecompany': 'the new home company inc.', 'pantagraph': 'the pantagraph', 'provenmethod': 'the proven method', 'southernillinoisan': 'the southern illinoisan', 'thetileshop1': 'the tile shop', 'toro.company': 'the toro company', 'thevitaminshoppe': 'the vitamin shoppe', 'thermatru': 'therma tru', 'thirdfederal': 'third federal', 'thomsonreuters': 'thomson reuters', 'tillys': 'tillys', 'timbrasil': 'tim brasil', 'timhortonsus': 'tim hortons', 'timberland': 'timberland', 'titanmachinery': 'titan machinery', 'tivo': 'tivo', 'tjmaxx': 'tj maxx', 'tollbrothersinc': 'toll brothers', 'tommybahama': 'tommy bahama', 'tommyhilfiger': 'tommy hilfiger', 'topimagesystems': 'top image systems', 'total': 'total', 'toulondesign': 'toulon design', 'towerjazz': 'towerjazz', 'townebank': 'townebank', 'townsquaremedia': 'townsquare media', 'toyotamotorcorporation': 'toyota motor corporation', 'tractorsupplyco': 'tractor supply company', 'transcat': 'transocean', 'transamerica': 'transamerica', 'transgenomiclab': 'transgenomic', 'travelcentersofamerica': 'travelcenters of america', 'travelers': 'travelers', 'travelzoo': 'travelzoo', 'travelocity': 'travelport', 'tremorvideo': 'tremor video', 'trexcompany': 'trex company', 'tripointehomes': 'tri pointe homes', 'trinethr': 'trinet', 'trinityindustriesinc': 'trinity industries, inc.', 'tripadvisor': 'tripadvisor', 'tesseratechnologies': 'tyler technologies', 'trovagene': 'trovagene', 'trueblueinc': 'trueblue inc.', 'trulia': 'trulia', 'trustmarkbank': 'trustmark bank', 'tsys1': 'tsys', 'tuesdaymorning': 'tuesday morning', 'tupperwarebrandscorp': 'tupperware brands', 'turkcell': 'turkcell', 'turtlebeach': 'turtle beach', 'twindiscinc': 'twin disc', 'twitterinc': 'twitter', 'tysonfoods': 'tyson foods', 'usbank': 'u.s. bank', 'uscellular': 'u.s. cellular', 'usphysicaltherapy': 'u.s. physical therapy, inc.', 'ultabeauty': 'ulta beauty', 'ultracargo': 'ultrapar', 'ultralifecorp': 'ultralife corporation', 'umbbank': 'umb bank', 'umpquabank': 'umpqua bank', 'underarmour': 'under armour', 'unifiedpayments': 'unified payments', 'unilever': 'unilever', 'unitedbankky02': 'united bank', 'unitedcommunitybankin': 'united community bank', 'unitedfiregroup': 'united fire group', 'alliedhealthgroup': 'unitedhealth group', 'unitedhealthcare': 'unitedhealthcare', 'unitil': 'unitil', 'univestbank': 'univest', 'univar': 'univar', 'unysonstl': 'unyson', 'ups': 'ups', 'urbanoutfitters': 'urban outfitters europe', 'usfoods': 'us foods', 'usatechnologies': 'usa technologies inc.', 'usatoday': 'usa today', 'usanahealthsciences': 'usana health sciences', 'valmontindustries': 'valmont industries, inc.', 'valueline': 'value line', 'vbivaccines': 'vbi vaccines inc.', 'vectrusinc': 'vectrus', 'veevasystems': 'veeva systems', 'venmo': 'venmo', 'verabradley': 'vera bradley', 'verifone': 'verizon', 'verint': 'verint', 'verisign': 'verisign', 'veriskanalytics': 'verisk analytics', 'versopapercorp': 'verso paper corp.', 'viacom': 'viacom', 'viavisolutions': 'viavi solutions', 'bvicable': 'vical', 'vircoinc': 'virco', 'virtusinvestmentpartners': 'virtus investment partners', 'virtusacorp': 'virtusa', 'viasat': 'visa', 'vishayintertechnology': 'vishay intertechnology, inc.', 'imtvislink': 'vislink', 'vistaoutdoor': 'vista outdoor inc.', 'vivintsolar': 'vivint solar', 'vmware': 'vmware', 'vonage': 'vonage', 'voxeljet': 'voxeljet ag', 'wabcovehiclecontrolsystems': 'wabtec control systems', 'waddellandreed': 'waddell & reed', 'wageworks': 'wageworks', 'walgreens': 'walgreens', 'walkerdunlop': 'walker & dunlop', 'walmart': 'walmart', 'waterstonebank': 'waterstone bank', 'wayfair': 'wayfair', 'wd': 'wd', 'weenergies': 'we energies', 'weatherfordcorp': 'weatherford', 'web.com': 'web.com', 'webdam': 'webdam', 'weightwatchers': 'weight watchers', 'weingartenrealty': 'weingarten realty', 'weismarkets': 'weis markets', 'wellcarehealthplans': 'wellcare health plans', 'wernerenterprisesinc': 'werner enterprises', 'wesbanco': 'wesbanco', 'westelm': 'westell', 'westerndigital': 'western digital', 'westernplows': 'western snow plows', 'westernunion': 'western union', 'westlakechemical': 'westlake chemical', 'willamettevalleyvineyards': 'willamette valley vineyards', 'williamlyonhomes': 'william lyon homes', 'williamssonoma': 'williams-sonoma, inc.', 'williamrast': 'williams', 'willistowerswatson': 'willis towers watson', 'windstreamtalent': 'windstream', 'winnebago': 'winnebago', 'wiprolimited': 'wipro limited', 'wisconsinbankandtrust': 'wisconsin bank &amp; trust', 'wittobriens': \"witt o'brien's\", 'wnsglobalservices': 'wns global services', 'woodwardinc': 'woodward, inc.', 'workday': 'workday', 'workhorsegroup': 'workhorse group inc.', 'worthingtonindustries': 'worthington industries', 'wpxenergy': 'wpx energy', 'wrightmedical': 'wright medical', 'wsfsbank': 'wsfs bank', 'wwe': 'wwe', 'xcelenergy': 'xcel energy', 'xilinxinc': 'xilinx', 'xpologistics': 'xpo logistics, inc.', 'xulonpress': 'xulon press', 'yahoo': 'yahoo', 'yamanagoldinc': 'yamana gold inc.', 'yelp': 'yelp', 'youtube': 'youtube', 'zebratechnologiesglobal': 'zebra technologies', 'zendesk': 'zendesk', 'zillow': 'zillow', 'zimmerbiomet': 'zimmer biomet', 'zipcar': 'zipcar', 'zoeskitchen': 'zoes kitchen', 'zscaler': 'zscaler', 'zumiez': 'zumiez', 'zynga': 'zynga'}\n"
     ]
    }
   ],
   "source": [
    "name_replace = {}\n",
    "for i in ld_names_gen:\n",
    "    s = 0\n",
    "    similar_j = \"\"\n",
    "    for j in fb_names_gen:\n",
    "        new_s = similar(i, j)\n",
    "        if new_s > 0.75 and new_s > s:\n",
    "            s = similar(i, j)\n",
    "            similar_j = j\n",
    "    name_replace[similar_j] = i\n",
    "print(name_replace)"
   ]
  },
  {
   "cell_type": "code",
   "execution_count": 283,
   "metadata": {},
   "outputs": [],
   "source": [
    "fb.username.apply(lambda x: x.strip().lower()).replace(name_replace, inplace=True)"
   ]
  },
  {
   "cell_type": "code",
   "execution_count": 284,
   "metadata": {},
   "outputs": [],
   "source": [
    "fb.rename(columns={'username': 'company_name'}, inplace=True)"
   ]
  },
  {
   "cell_type": "code",
   "execution_count": 285,
   "metadata": {},
   "outputs": [],
   "source": [
    "fb_max = fb.groupby('company_name').max()"
   ]
  },
  {
   "cell_type": "code",
   "execution_count": 286,
   "metadata": {},
   "outputs": [
    {
     "data": {
      "text/plain": [
       "(4891, 9)"
      ]
     },
     "execution_count": 286,
     "metadata": {},
     "output_type": "execute_result"
    }
   ],
   "source": [
    "fb_max.shape"
   ]
  },
  {
   "cell_type": "code",
   "execution_count": 287,
   "metadata": {},
   "outputs": [],
   "source": [
    "ld_max = ld.groupby('company_name').max()"
   ]
  },
  {
   "cell_type": "code",
   "execution_count": 288,
   "metadata": {},
   "outputs": [
    {
     "data": {
      "text/plain": [
       "(5003, 8)"
      ]
     },
     "execution_count": 288,
     "metadata": {},
     "output_type": "execute_result"
    }
   ],
   "source": [
    "ld_max.shape"
   ]
  },
  {
   "cell_type": "code",
   "execution_count": 289,
   "metadata": {},
   "outputs": [
    {
     "data": {
      "text/plain": [
       "(4891, 9)"
      ]
     },
     "execution_count": 289,
     "metadata": {},
     "output_type": "execute_result"
    }
   ],
   "source": [
    "fb_max = fb.groupby('company_name').max()\n",
    "fb_max.shape"
   ]
  },
  {
   "cell_type": "code",
   "execution_count": 290,
   "metadata": {},
   "outputs": [
    {
     "ename": "AttributeError",
     "evalue": "'DataFrame' object has no attribute 'company_name'",
     "output_type": "error",
     "traceback": [
      "\u001b[0;31m---------------------------------------------------------------------------\u001b[0m",
      "\u001b[0;31mAttributeError\u001b[0m                            Traceback (most recent call last)",
      "\u001b[0;32m<ipython-input-290-b3ef774eb3ea>\u001b[0m in \u001b[0;36m<module>\u001b[0;34m\u001b[0m\n\u001b[1;32m      1\u001b[0m \u001b[0;31m# fb_max.reset_index(inplace=True)\u001b[0m\u001b[0;34m\u001b[0m\u001b[0;34m\u001b[0m\u001b[0;34m\u001b[0m\u001b[0m\n\u001b[0;32m----> 2\u001b[0;31m \u001b[0mfb_max\u001b[0m\u001b[0;34m.\u001b[0m\u001b[0mcompany_name\u001b[0m\u001b[0;34m.\u001b[0m\u001b[0mreplace\u001b[0m\u001b[0;34m(\u001b[0m\u001b[0mname_replace\u001b[0m\u001b[0;34m,\u001b[0m \u001b[0minplace\u001b[0m\u001b[0;34m=\u001b[0m\u001b[0;32mTrue\u001b[0m\u001b[0;34m)\u001b[0m\u001b[0;34m\u001b[0m\u001b[0;34m\u001b[0m\u001b[0m\n\u001b[0m",
      "\u001b[0;32m/Library/Frameworks/Python.framework/Versions/3.7/lib/python3.7/site-packages/pandas/core/generic.py\u001b[0m in \u001b[0;36m__getattr__\u001b[0;34m(self, name)\u001b[0m\n\u001b[1;32m   5065\u001b[0m             \u001b[0;32mif\u001b[0m \u001b[0mself\u001b[0m\u001b[0;34m.\u001b[0m\u001b[0m_info_axis\u001b[0m\u001b[0;34m.\u001b[0m\u001b[0m_can_hold_identifiers_and_holds_name\u001b[0m\u001b[0;34m(\u001b[0m\u001b[0mname\u001b[0m\u001b[0;34m)\u001b[0m\u001b[0;34m:\u001b[0m\u001b[0;34m\u001b[0m\u001b[0;34m\u001b[0m\u001b[0m\n\u001b[1;32m   5066\u001b[0m                 \u001b[0;32mreturn\u001b[0m \u001b[0mself\u001b[0m\u001b[0;34m[\u001b[0m\u001b[0mname\u001b[0m\u001b[0;34m]\u001b[0m\u001b[0;34m\u001b[0m\u001b[0;34m\u001b[0m\u001b[0m\n\u001b[0;32m-> 5067\u001b[0;31m             \u001b[0;32mreturn\u001b[0m \u001b[0mobject\u001b[0m\u001b[0;34m.\u001b[0m\u001b[0m__getattribute__\u001b[0m\u001b[0;34m(\u001b[0m\u001b[0mself\u001b[0m\u001b[0;34m,\u001b[0m \u001b[0mname\u001b[0m\u001b[0;34m)\u001b[0m\u001b[0;34m\u001b[0m\u001b[0;34m\u001b[0m\u001b[0m\n\u001b[0m\u001b[1;32m   5068\u001b[0m \u001b[0;34m\u001b[0m\u001b[0m\n\u001b[1;32m   5069\u001b[0m     \u001b[0;32mdef\u001b[0m \u001b[0m__setattr__\u001b[0m\u001b[0;34m(\u001b[0m\u001b[0mself\u001b[0m\u001b[0;34m,\u001b[0m \u001b[0mname\u001b[0m\u001b[0;34m,\u001b[0m \u001b[0mvalue\u001b[0m\u001b[0;34m)\u001b[0m\u001b[0;34m:\u001b[0m\u001b[0;34m\u001b[0m\u001b[0;34m\u001b[0m\u001b[0m\n",
      "\u001b[0;31mAttributeError\u001b[0m: 'DataFrame' object has no attribute 'company_name'"
     ]
    }
   ],
   "source": [
    "# fb_max.reset_index(inplace=True)\n",
    "fb_max.company_name.replace(name_replace, inplace=True)"
   ]
  },
  {
   "cell_type": "code",
   "execution_count": null,
   "metadata": {},
   "outputs": [],
   "source": [
    "ld_max.reset_index(inplace=True)\n",
    "ld_max.company_name = ld_max.company_name.apply(lambda x: x.strip().lower())"
   ]
  },
  {
   "cell_type": "code",
   "execution_count": null,
   "metadata": {},
   "outputs": [],
   "source": [
    "combined = ld_max.merge(fb_max, on='company_name')"
   ]
  },
  {
   "cell_type": "code",
   "execution_count": null,
   "metadata": {},
   "outputs": [],
   "source": [
    "# combined.to_csv('combined_ld_fb.csv')"
   ]
  },
  {
   "cell_type": "code",
   "execution_count": null,
   "metadata": {},
   "outputs": [],
   "source": [
    "combined"
   ]
  },
  {
   "cell_type": "code",
   "execution_count": null,
   "metadata": {},
   "outputs": [],
   "source": [
    "# import sys\n",
    "# !{sys.executable} -m pip install pandas_datareader"
   ]
  },
  {
   "cell_type": "code",
   "execution_count": null,
   "metadata": {},
   "outputs": [],
   "source": [
    "import pandas_datareader.data as web\n",
    "import datetime as dt"
   ]
  },
  {
   "cell_type": "code",
   "execution_count": null,
   "metadata": {},
   "outputs": [],
   "source": [
    "# start = dt.datetime(2019, 1, 1)\n",
    "# end = dt.datetime(2019, 2, 1)\n",
    "# web.DataReader('TSLA', 'yahoo', start, end)"
   ]
  },
  {
   "cell_type": "code",
   "execution_count": null,
   "metadata": {},
   "outputs": [],
   "source": [
    "small_combined = combined.drop(['index_x', 'dataset_id_x', 'link', 'date_added', 'index_y', 'dataset_id_y', 'facebook_id'], axis=1)"
   ]
  },
  {
   "cell_type": "code",
   "execution_count": null,
   "metadata": {},
   "outputs": [],
   "source": [
    "small_combined.drop(['date_updated_x', 'level_0', 'time', 'date_updated_y'], axis=1, inplace=True)"
   ]
  },
  {
   "cell_type": "code",
   "execution_count": null,
   "metadata": {},
   "outputs": [],
   "source": [
    "small_combined.head()"
   ]
  },
  {
   "cell_type": "markdown",
   "metadata": {},
   "source": [
    "## New dataset obtained at NASDAQ website. \n",
    "### https://www.nasdaq.com/screening/company-list.aspx\n",
    "### The company lists."
   ]
  },
  {
   "cell_type": "code",
   "execution_count": null,
   "metadata": {},
   "outputs": [],
   "source": [
    "nasdaq_lists = pd.read_csv('companylist_nasdaq.csv').append(pd.read_csv('companylist_nyse.csv')).append(pd.read_csv('companylist_amex.csv'))"
   ]
  },
  {
   "cell_type": "code",
   "execution_count": null,
   "metadata": {},
   "outputs": [],
   "source": [
    "nasdaq_lists"
   ]
  },
  {
   "cell_type": "code",
   "execution_count": null,
   "metadata": {},
   "outputs": [],
   "source": [
    "stock_symbol_search = dict(zip([x.lower() for x in nasdaq_lists.Name], nasdaq_lists.Symbol))"
   ]
  },
  {
   "cell_type": "code",
   "execution_count": null,
   "metadata": {},
   "outputs": [],
   "source": [
    "for i in range(small_combined.shape[0]):\n",
    "    company_name = small_combined.loc[i, 'company_name']\n",
    "    most_similar = np.nan\n",
    "    most_similarity = 0\n",
    "    for key, value in stock_symbol_search.items():\n",
    "        s = similar(key, company_name)\n",
    "        if s > most_similarity and s > 0.75:\n",
    "            most_similarity = s\n",
    "            most_similar = value\n",
    "    small_combined.loc[i, 'stock_symbol'] = most_similar"
   ]
  },
  {
   "cell_type": "code",
   "execution_count": null,
   "metadata": {},
   "outputs": [],
   "source": [
    "final_df = small_combined.drop('has_added_app', axis=1)\n",
    "final_df.stock_symbol = final_df.stock_symbol.apply(lambda x: int(pd.isnull(x)))"
   ]
  },
  {
   "cell_type": "code",
   "execution_count": null,
   "metadata": {},
   "outputs": [],
   "source": [
    "final_df.head()"
   ]
  },
  {
   "cell_type": "code",
   "execution_count": null,
   "metadata": {},
   "outputs": [],
   "source": [
    "# final_df.to_csv('final_df.csv')"
   ]
  },
  {
   "cell_type": "code",
   "execution_count": null,
   "metadata": {},
   "outputs": [],
   "source": []
  }
 ],
 "metadata": {
  "kernelspec": {
   "display_name": "Python 3",
   "language": "python",
   "name": "python3"
  },
  "language_info": {
   "codemirror_mode": {
    "name": "ipython",
    "version": 3
   },
   "file_extension": ".py",
   "mimetype": "text/x-python",
   "name": "python",
   "nbconvert_exporter": "python",
   "pygments_lexer": "ipython3",
   "version": "3.7.3"
  }
 },
 "nbformat": 4,
 "nbformat_minor": 2
}
