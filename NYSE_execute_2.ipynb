{
 "cells": [
  {
   "cell_type": "code",
   "execution_count": 4,
   "metadata": {},
   "outputs": [],
   "source": [
    "import pandas as pd\n",
    "output_path = 'job_truncated_2.csv'\n",
    "f = open('job_truncated.csv', 'w+')\n",
    "f.write(',brand,locality,region,date_updated\\n')\n",
    "f.close()\n",
    "files = []\n",
    "for i in range(1, 6):\n",
    "    files.append('temp_datalab_records_job_listings_' + str(i) +'.csv')\n",
    "for file in files:\n",
    "    jl = pd.read_csv(file, usecols=['brand', 'region', 'date_updated'], parse_dates=True, chunksize=100)\n",
    "    for chunk_df in jl:\n",
    "        chunk_df.dropna(axis=0, how='any', inplace=True)\n",
    "        chunk_result = chunk_df[chunk_df['date_updated'].str.contains('2018')]\n",
    "        chunk_result.to_csv(output_path, mode='a', header=False)"
   ]
  },
  {
   "cell_type": "code",
   "execution_count": 6,
   "metadata": {},
   "outputs": [],
   "source": [
    "jl = pd.read_csv('temp_datalab_records_job_listings_6.csv', usecols=['brand', 'region', 'date_updated'], parse_dates=True, chunksize=100)\n",
    "for chunk_df in jl:\n",
    "    chunk_df.dropna(axis=0, how='any', inplace=True)\n",
    "    chunk_result = chunk_df[chunk_df['date_updated'].str.contains('2018')]\n",
    "    chunk_result.to_csv(output_path, mode='a', header=False)"
   ]
  },
  {
   "cell_type": "code",
   "execution_count": null,
   "metadata": {},
   "outputs": [],
   "source": []
  }
 ],
 "metadata": {
  "kernelspec": {
   "display_name": "Python 3",
   "language": "python",
   "name": "python3"
  },
  "language_info": {
   "codemirror_mode": {
    "name": "ipython",
    "version": 3
   },
   "file_extension": ".py",
   "mimetype": "text/x-python",
   "name": "python",
   "nbconvert_exporter": "python",
   "pygments_lexer": "ipython3",
   "version": "3.7.3"
  }
 },
 "nbformat": 4,
 "nbformat_minor": 2
}
